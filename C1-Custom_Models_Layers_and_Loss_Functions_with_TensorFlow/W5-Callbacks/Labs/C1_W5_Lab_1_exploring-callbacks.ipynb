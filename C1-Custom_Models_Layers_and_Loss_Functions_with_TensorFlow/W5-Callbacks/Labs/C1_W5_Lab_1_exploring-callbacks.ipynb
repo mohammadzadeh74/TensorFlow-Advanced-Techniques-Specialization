{
 "cells": [
  {
   "cell_type": "markdown",
   "metadata": {
    "colab_type": "text",
    "id": "view-in-github"
   },
   "source": [
    "<a href=\"https://colab.research.google.com/github/https-deeplearning-ai/tensorflow-3-public/blob/main/Course%201%20-%20Custom%20Models%2C%20Layers%20and%20Loss%20Functions/Week%205%20-%20Callbacks/C1_W5_Lab_1_exploring-callbacks.ipynb\" target=\"_parent\"><img src=\"https://colab.research.google.com/assets/colab-badge.svg\" alt=\"Open In Colab\"/></a>"
   ]
  },
  {
   "cell_type": "markdown",
   "metadata": {
    "colab_type": "text",
    "id": "0c_TYhQOUe1j"
   },
   "source": [
    "# Ungraded Lab: Introduction to Keras callbacks\n",
    "\n",
    "In Keras, `Callback` is a Python class meant to be subclassed to provide specific functionality, with a set of methods called at various stages of training (including batch/epoch start and ends), testing, and predicting. Callbacks are useful to get a view on internal states and statistics of the model during training. The methods of the callbacks can  be called at different stages of training/evaluating/inference. Keras has available [callbacks](https://keras.io/api/callbacks/) and we'll show how you can use it in the following sections. Please click the **Open in Colab** badge above to complete this exercise in Colab. This will allow you to take advantage of the free GPU runtime (for faster training) and compatibility with all the packages needed in this notebook."
   ]
  },
  {
   "cell_type": "markdown",
   "metadata": {
    "colab_type": "text",
    "id": "Uyl69EyRQx-f"
   },
   "source": [
    "## Model methods that take callbacks\n",
    "Users can supply a list of callbacks to the following `tf.keras.Model` methods:\n",
    "* [`fit()`](https://www.tensorflow.org/versions/r2.0/api_docs/python/tf/keras/Model#fit), [`fit_generator()`](https://www.tensorflow.org/versions/r2.0/api_docs/python/tf/keras/Model#fit_generator)\n",
    "Trains the model for a fixed number of epochs (iterations over a dataset, or data yielded batch-by-batch by a Python generator).\n",
    "* [`evaluate()`](https://www.tensorflow.org/versions/r2.0/api_docs/python/tf/keras/Model#evaluate), [`evaluate_generator()`](https://www.tensorflow.org/versions/r2.0/api_docs/python/tf/keras/Model#evaluate_generator)\n",
    "Evaluates the model for given data or data generator. Outputs the loss and metric values from the evaluation.\n",
    "* [`predict()`](https://www.tensorflow.org/versions/r2.0/api_docs/python/tf/keras/Model#predict), [`predict_generator()`](https://www.tensorflow.org/versions/r2.0/api_docs/python/tf/keras/Model#predict_generator)\n",
    "Generates output predictions for the input data or data generator."
   ]
  },
  {
   "cell_type": "markdown",
   "metadata": {},
   "source": [
    "## Imports"
   ]
  },
  {
   "cell_type": "code",
   "execution_count": 1,
   "metadata": {
    "colab": {},
    "colab_type": "code",
    "id": "AlT1Kh3uA9lZ"
   },
   "outputs": [
    {
     "name": "stderr",
     "output_type": "stream",
     "text": [
      "2023-03-20 20:07:56.550783: I tensorflow/core/platform/cpu_feature_guard.cc:193] This TensorFlow binary is optimized with oneAPI Deep Neural Network Library (oneDNN) to use the following CPU instructions in performance-critical operations:  SSE4.1 SSE4.2 AVX AVX2 FMA\n",
      "To enable them in other operations, rebuild TensorFlow with the appropriate compiler flags.\n"
     ]
    },
    {
     "name": "stdout",
     "output_type": "stream",
     "text": [
      "Version:  2.11.0\n"
     ]
    }
   ],
   "source": [
    "from __future__ import absolute_import, division, print_function, unicode_literals\n",
    "\n",
    "try:\n",
    "    # %tensorflow_version only exists in Colab.\n",
    "    %tensorflow_version 2.x\n",
    "except Exception:\n",
    "    pass\n",
    "\n",
    "import tensorflow as tf\n",
    "import tensorflow_datasets as tfds\n",
    "import matplotlib.pyplot as plt\n",
    "import io\n",
    "from PIL import Image\n",
    "\n",
    "from tensorflow.keras.callbacks import TensorBoard, EarlyStopping, LearningRateScheduler, ModelCheckpoint, CSVLogger, ReduceLROnPlateau\n",
    "%load_ext tensorboard\n",
    "\n",
    "import os\n",
    "import matplotlib.pylab as plt\n",
    "import numpy as np\n",
    "import math\n",
    "import datetime\n",
    "import pandas as pd\n",
    "\n",
    "print(\"Version: \", tf.__version__)\n",
    "tf.get_logger().setLevel('INFO')"
   ]
  },
  {
   "cell_type": "markdown",
   "metadata": {
    "colab_type": "text",
    "id": "HnSljqtsXKfb"
   },
   "source": [
    "# Examples of Keras callback applications\n",
    "The following section will guide you through creating simple [Callback](https://keras.io/api/callbacks/) applications."
   ]
  },
  {
   "cell_type": "code",
   "execution_count": 3,
   "metadata": {
    "colab": {},
    "colab_type": "code",
    "id": "spskRuxvCYQE"
   },
   "outputs": [],
   "source": [
    "# Download and prepare the horses or humans dataset\n",
    "\n",
    "# horses_or_humans 3.0.0 has already been downloaded for you\n",
    "path = \"./tensorflow_datasets\"\n",
    "splits, info = tfds.load('horses_or_humans', data_dir=path, as_supervised=True, with_info=True, split=['train[:80%]', 'train[80%:]', 'test'])\n",
    "\n",
    "(train_examples, validation_examples, test_examples) = splits\n",
    "\n",
    "num_examples = info.splits['train'].num_examples\n",
    "num_classes = info.features['label'].num_classes"
   ]
  },
  {
   "cell_type": "code",
   "execution_count": 4,
   "metadata": {
    "colab": {},
    "colab_type": "code",
    "id": "veIsubKTCZsN"
   },
   "outputs": [],
   "source": [
    "SIZE = 150 #@param {type:\"slider\", min:64, max:300, step:1}\n",
    "IMAGE_SIZE = (SIZE, SIZE)"
   ]
  },
  {
   "cell_type": "code",
   "execution_count": 5,
   "metadata": {
    "colab": {},
    "colab_type": "code",
    "id": "faajLlErCb1S"
   },
   "outputs": [],
   "source": [
    "def format_image(image, label):\n",
    "  image = tf.image.resize(image, IMAGE_SIZE) / 255.0\n",
    "  return  image, label"
   ]
  },
  {
   "cell_type": "code",
   "execution_count": 6,
   "metadata": {
    "colab": {},
    "colab_type": "code",
    "id": "AVXPuU12Cdka"
   },
   "outputs": [],
   "source": [
    "BATCH_SIZE = 32 #@param {type:\"integer\"}"
   ]
  },
  {
   "cell_type": "code",
   "execution_count": 7,
   "metadata": {
    "colab": {},
    "colab_type": "code",
    "id": "0lHDkFVaCe48"
   },
   "outputs": [],
   "source": [
    "train_batches = train_examples.shuffle(num_examples // 4).map(format_image).batch(BATCH_SIZE).prefetch(1)\n",
    "validation_batches = validation_examples.map(format_image).batch(BATCH_SIZE).prefetch(1)\n",
    "test_batches = test_examples.map(format_image).batch(1)"
   ]
  },
  {
   "cell_type": "code",
   "execution_count": 8,
   "metadata": {
    "colab": {},
    "colab_type": "code",
    "id": "DxsCqEIkCgUt"
   },
   "outputs": [
    {
     "data": {
      "text/plain": [
       "TensorShape([32, 150, 150, 3])"
      ]
     },
     "execution_count": 8,
     "metadata": {},
     "output_type": "execute_result"
    }
   ],
   "source": [
    "for image_batch, label_batch in train_batches.take(1):\n",
    "  pass\n",
    "\n",
    "image_batch.shape"
   ]
  },
  {
   "cell_type": "code",
   "execution_count": 9,
   "metadata": {
    "colab": {},
    "colab_type": "code",
    "id": "iDBpWvHXCh2A"
   },
   "outputs": [],
   "source": [
    "def build_model(dense_units, input_shape=IMAGE_SIZE + (3,)):\n",
    "  model = tf.keras.models.Sequential([\n",
    "      tf.keras.layers.Conv2D(16, (3, 3), activation='relu', input_shape=input_shape),\n",
    "      tf.keras.layers.MaxPooling2D(2, 2),\n",
    "      tf.keras.layers.Conv2D(32, (3, 3), activation='relu'),\n",
    "      tf.keras.layers.MaxPooling2D(2, 2),\n",
    "      tf.keras.layers.Conv2D(64, (3, 3), activation='relu'),\n",
    "      tf.keras.layers.MaxPooling2D(2, 2),\n",
    "      tf.keras.layers.Flatten(),\n",
    "      tf.keras.layers.Dense(dense_units, activation='relu'),\n",
    "      tf.keras.layers.Dense(2, activation='softmax')\n",
    "  ])\n",
    "  return model"
   ]
  },
  {
   "cell_type": "markdown",
   "metadata": {
    "colab_type": "text",
    "id": "0ZKGkjagENSw"
   },
   "source": [
    "## [TensorBoard](https://keras.io/api/callbacks/tensorboard/)\n",
    "\n",
    "Enable visualizations for TensorBoard."
   ]
  },
  {
   "cell_type": "code",
   "execution_count": 10,
   "metadata": {
    "colab": {},
    "colab_type": "code",
    "id": "CeiD2WVEHbex"
   },
   "outputs": [],
   "source": [
    "!rm -rf logs"
   ]
  },
  {
   "cell_type": "code",
   "execution_count": 11,
   "metadata": {
    "colab": {},
    "colab_type": "code",
    "id": "PpLwPLnAEOzv"
   },
   "outputs": [
    {
     "name": "stdout",
     "output_type": "stream",
     "text": [
      "Epoch 1/10\n"
     ]
    },
    {
     "name": "stderr",
     "output_type": "stream",
     "text": [
      "2023-03-20 20:10:23.840808: I tensorflow/compiler/xla/stream_executor/cuda/cuda_dnn.cc:428] Loaded cuDNN version 8401\n",
      "2023-03-20 20:10:27.106731: I tensorflow/compiler/xla/service/service.cc:173] XLA service 0x7fd8624806b0 initialized for platform CUDA (this does not guarantee that XLA will be used). Devices:\n",
      "2023-03-20 20:10:27.106770: I tensorflow/compiler/xla/service/service.cc:181]   StreamExecutor device (0): NVIDIA GeForce RTX 2070 SUPER, Compute Capability 7.5\n",
      "2023-03-20 20:10:27.114377: W tensorflow/compiler/xla/service/gpu/nvptx_helper.cc:56] Can't find libdevice directory ${CUDA_DIR}/nvvm/libdevice. This may result in compilation or runtime failures, if the program we try to run uses routines from libdevice.\n",
      "Searched for CUDA in the following directories:\n",
      "  ./cuda_sdk_lib\n",
      "  /usr/local/cuda-11.2\n",
      "  /usr/local/cuda\n",
      "  .\n",
      "You can choose the search directory by setting xla_gpu_cuda_data_dir in HloModule's DebugOptions.  For most apps, setting the environment variable XLA_FLAGS=--xla_gpu_cuda_data_dir=/path/to/cuda will work.\n",
      "2023-03-20 20:10:27.180725: I tensorflow/compiler/jit/xla_compilation_cache.cc:477] Compiled cluster using XLA!  This line is logged at most once for the lifetime of the process.\n"
     ]
    },
    {
     "name": "stdout",
     "output_type": "stream",
     "text": [
      "26/26 [==============================] - 10s 59ms/step - loss: 0.6791 - accuracy: 0.5766 - val_loss: 0.7084 - val_accuracy: 0.4780\n",
      "Epoch 2/10\n",
      "26/26 [==============================] - 1s 25ms/step - loss: 0.6067 - accuracy: 0.6849 - val_loss: 0.5796 - val_accuracy: 0.6488\n",
      "Epoch 3/10\n",
      "26/26 [==============================] - 1s 21ms/step - loss: 0.5643 - accuracy: 0.7214 - val_loss: 0.5109 - val_accuracy: 0.8537\n",
      "Epoch 4/10\n",
      "26/26 [==============================] - 1s 22ms/step - loss: 0.5108 - accuracy: 0.7640 - val_loss: 0.5357 - val_accuracy: 0.6780\n",
      "Epoch 5/10\n",
      "26/26 [==============================] - 1s 20ms/step - loss: 0.4461 - accuracy: 0.8224 - val_loss: 0.4057 - val_accuracy: 0.8732\n",
      "Epoch 6/10\n",
      "26/26 [==============================] - 1s 23ms/step - loss: 0.3833 - accuracy: 0.8723 - val_loss: 0.3735 - val_accuracy: 0.8585\n",
      "Epoch 7/10\n",
      "26/26 [==============================] - 1s 22ms/step - loss: 0.3191 - accuracy: 0.8820 - val_loss: 0.3007 - val_accuracy: 0.9220\n",
      "Epoch 8/10\n",
      "26/26 [==============================] - 1s 20ms/step - loss: 0.2408 - accuracy: 0.9294 - val_loss: 0.2268 - val_accuracy: 0.9268\n",
      "Epoch 9/10\n",
      "26/26 [==============================] - 1s 21ms/step - loss: 0.1762 - accuracy: 0.9611 - val_loss: 0.1446 - val_accuracy: 0.9610\n",
      "Epoch 10/10\n",
      "26/26 [==============================] - 1s 20ms/step - loss: 0.1643 - accuracy: 0.9550 - val_loss: 0.1619 - val_accuracy: 0.9463\n"
     ]
    },
    {
     "data": {
      "text/plain": [
       "<keras.callbacks.History at 0x7fdb84023730>"
      ]
     },
     "execution_count": 11,
     "metadata": {},
     "output_type": "execute_result"
    }
   ],
   "source": [
    "model = build_model(dense_units=256)\n",
    "model.compile(\n",
    "    optimizer='sgd',\n",
    "    loss='sparse_categorical_crossentropy', \n",
    "    metrics=['accuracy'])\n",
    "  \n",
    "logdir = os.path.join(\"logs\", datetime.datetime.now().strftime(\"%Y%m%d-%H%M%S\"))\n",
    "tensorboard_callback = tf.keras.callbacks.TensorBoard(logdir)\n",
    "\n",
    "model.fit(train_batches, \n",
    "          epochs=10, \n",
    "          validation_data=validation_batches, \n",
    "          callbacks=[tensorboard_callback])"
   ]
  },
  {
   "cell_type": "code",
   "execution_count": 12,
   "metadata": {
    "colab": {},
    "colab_type": "code",
    "id": "iJunWOjZE0ir"
   },
   "outputs": [
    {
     "data": {
      "text/html": [
       "\n",
       "      <iframe id=\"tensorboard-frame-980c35712fc543f5\" width=\"100%\" height=\"800\" frameborder=\"0\">\n",
       "      </iframe>\n",
       "      <script>\n",
       "        (function() {\n",
       "          const frame = document.getElementById(\"tensorboard-frame-980c35712fc543f5\");\n",
       "          const url = new URL(\"/\", window.location);\n",
       "          const port = 6006;\n",
       "          if (port) {\n",
       "            url.port = port;\n",
       "          }\n",
       "          frame.src = url;\n",
       "        })();\n",
       "      </script>\n",
       "    "
      ],
      "text/plain": [
       "<IPython.core.display.HTML object>"
      ]
     },
     "metadata": {},
     "output_type": "display_data"
    }
   ],
   "source": [
    "%tensorboard --logdir logs"
   ]
  },
  {
   "cell_type": "markdown",
   "metadata": {
    "colab_type": "text",
    "id": "wv9H4Pc2Mfl7"
   },
   "source": [
    "## [Model Checkpoint](https://keras.io/api/callbacks/model_checkpoint/)\n",
    "\n",
    "Callback to save the Keras model or model weights at some frequency."
   ]
  },
  {
   "cell_type": "code",
   "execution_count": 13,
   "metadata": {
    "colab": {},
    "colab_type": "code",
    "id": "PYV4FJ8iMmDq"
   },
   "outputs": [
    {
     "name": "stdout",
     "output_type": "stream",
     "text": [
      "Epoch 1/5\n",
      "\n",
      "Epoch 1: saving model to weights.01-0.69.h5\n",
      "26/26 - 1s - loss: 0.6784 - accuracy: 0.5584 - val_loss: 0.6917 - val_accuracy: 0.4341 - 1s/epoch - 55ms/step\n",
      "Epoch 2/5\n",
      "\n",
      "Epoch 2: saving model to weights.02-0.63.h5\n",
      "26/26 - 1s - loss: 0.6489 - accuracy: 0.6217 - val_loss: 0.6313 - val_accuracy: 0.8195 - 741ms/epoch - 28ms/step\n",
      "Epoch 3/5\n",
      "\n",
      "Epoch 3: saving model to weights.03-0.58.h5\n",
      "26/26 - 1s - loss: 0.6035 - accuracy: 0.7640 - val_loss: 0.5788 - val_accuracy: 0.8293 - 755ms/epoch - 29ms/step\n",
      "Epoch 4/5\n",
      "\n",
      "Epoch 4: saving model to weights.04-0.52.h5\n",
      "26/26 - 1s - loss: 0.5544 - accuracy: 0.7591 - val_loss: 0.5166 - val_accuracy: 0.8537 - 786ms/epoch - 30ms/step\n",
      "Epoch 5/5\n",
      "\n",
      "Epoch 5: saving model to weights.05-0.44.h5\n",
      "26/26 - 1s - loss: 0.5189 - accuracy: 0.7543 - val_loss: 0.4445 - val_accuracy: 0.8878 - 745ms/epoch - 29ms/step\n"
     ]
    },
    {
     "data": {
      "text/plain": [
       "<keras.callbacks.History at 0x7fdc5c6555b0>"
      ]
     },
     "execution_count": 13,
     "metadata": {},
     "output_type": "execute_result"
    }
   ],
   "source": [
    "model = build_model(dense_units=256)\n",
    "model.compile(\n",
    "    optimizer='sgd',\n",
    "    loss='sparse_categorical_crossentropy', \n",
    "    metrics=['accuracy'])\n",
    "  \n",
    "model.fit(train_batches, \n",
    "          epochs=5, \n",
    "          validation_data=validation_batches, \n",
    "          verbose=2,\n",
    "          callbacks=[ModelCheckpoint('weights.{epoch:02d}-{val_loss:.2f}.h5', verbose=1),\n",
    "          ])"
   ]
  },
  {
   "cell_type": "code",
   "execution_count": 14,
   "metadata": {
    "colab": {},
    "colab_type": "code",
    "id": "oGvjQ8IlMmK6"
   },
   "outputs": [
    {
     "name": "stdout",
     "output_type": "stream",
     "text": [
      "\n",
      "Epoch 1: saving model to saved_model\n"
     ]
    },
    {
     "name": "stderr",
     "output_type": "stream",
     "text": [
      "WARNING:absl:Found untraced functions such as _jit_compiled_convolution_op, _jit_compiled_convolution_op, _jit_compiled_convolution_op while saving (showing 3 of 3). These functions will not be directly callable after loading.\n"
     ]
    },
    {
     "name": "stdout",
     "output_type": "stream",
     "text": [
      "INFO:tensorflow:Assets written to: saved_model/assets\n"
     ]
    },
    {
     "name": "stderr",
     "output_type": "stream",
     "text": [
      "INFO:tensorflow:Assets written to: saved_model/assets\n"
     ]
    },
    {
     "name": "stdout",
     "output_type": "stream",
     "text": [
      "26/26 - 2s - loss: 0.6751 - accuracy: 0.5633 - val_loss: 0.6441 - val_accuracy: 0.7024 - 2s/epoch - 82ms/step\n"
     ]
    },
    {
     "data": {
      "text/plain": [
       "<keras.callbacks.History at 0x7fdc5c46cb20>"
      ]
     },
     "execution_count": 14,
     "metadata": {},
     "output_type": "execute_result"
    }
   ],
   "source": [
    "model = build_model(dense_units=256)\n",
    "model.compile(\n",
    "    optimizer='sgd',\n",
    "    loss='sparse_categorical_crossentropy', \n",
    "    metrics=['accuracy'])\n",
    "  \n",
    "model.fit(train_batches, \n",
    "          epochs=1, \n",
    "          validation_data=validation_batches, \n",
    "          verbose=2,\n",
    "          callbacks=[ModelCheckpoint('saved_model', verbose=1)\n",
    "          ])"
   ]
  },
  {
   "cell_type": "code",
   "execution_count": 15,
   "metadata": {
    "colab": {},
    "colab_type": "code",
    "id": "Y1ConwoB0EjD"
   },
   "outputs": [
    {
     "name": "stdout",
     "output_type": "stream",
     "text": [
      "Epoch 1/2\n",
      "\n",
      "Epoch 1: saving model to model.h5\n",
      "26/26 - 2s - loss: 0.6694 - accuracy: 0.5925 - val_loss: 0.6279 - val_accuracy: 0.7854 - 2s/epoch - 61ms/step\n",
      "Epoch 2/2\n",
      "\n",
      "Epoch 2: saving model to model.h5\n",
      "26/26 - 1s - loss: 0.5835 - accuracy: 0.7567 - val_loss: 0.6074 - val_accuracy: 0.5902 - 717ms/epoch - 28ms/step\n"
     ]
    },
    {
     "data": {
      "text/plain": [
       "<keras.callbacks.History at 0x7fdc5c210430>"
      ]
     },
     "execution_count": 15,
     "metadata": {},
     "output_type": "execute_result"
    }
   ],
   "source": [
    "model = build_model(dense_units=256)\n",
    "model.compile(\n",
    "    optimizer='sgd',\n",
    "    loss='sparse_categorical_crossentropy', \n",
    "    metrics=['accuracy'])\n",
    "  \n",
    "model.fit(train_batches, \n",
    "          epochs=2, \n",
    "          validation_data=validation_batches, \n",
    "          verbose=2,\n",
    "          callbacks=[ModelCheckpoint('model.h5', verbose=1)\n",
    "          ])"
   ]
  },
  {
   "cell_type": "markdown",
   "metadata": {
    "colab_type": "text",
    "id": "kptNF0--Lznv"
   },
   "source": [
    "## [Early stopping](https://keras.io/api/callbacks/early_stopping/)\n",
    "\n",
    "Stop training when a monitored metric has stopped improving."
   ]
  },
  {
   "cell_type": "code",
   "execution_count": 16,
   "metadata": {
    "colab": {},
    "colab_type": "code",
    "id": "KJOJTJYdCkdY"
   },
   "outputs": [
    {
     "name": "stdout",
     "output_type": "stream",
     "text": [
      "Epoch 1/50\n",
      "26/26 - 1s - loss: 0.6663 - accuracy: 0.6180 - val_loss: 0.6412 - val_accuracy: 0.7171 - 1s/epoch - 54ms/step\n",
      "Epoch 2/50\n",
      "26/26 - 1s - loss: 0.5950 - accuracy: 0.7251 - val_loss: 0.5531 - val_accuracy: 0.7805 - 623ms/epoch - 24ms/step\n",
      "Epoch 3/50\n",
      "26/26 - 1s - loss: 0.5252 - accuracy: 0.7470 - val_loss: 0.4857 - val_accuracy: 0.8390 - 636ms/epoch - 24ms/step\n",
      "Epoch 4/50\n",
      "26/26 - 1s - loss: 0.4522 - accuracy: 0.8114 - val_loss: 0.3977 - val_accuracy: 0.8341 - 665ms/epoch - 26ms/step\n",
      "Epoch 5/50\n",
      "26/26 - 1s - loss: 0.4016 - accuracy: 0.8333 - val_loss: 0.3448 - val_accuracy: 0.8780 - 672ms/epoch - 26ms/step\n",
      "Epoch 6/50\n",
      "26/26 - 1s - loss: 0.3135 - accuracy: 0.8966 - val_loss: 0.3127 - val_accuracy: 0.9024 - 603ms/epoch - 23ms/step\n",
      "Epoch 7/50\n",
      "26/26 - 1s - loss: 0.2830 - accuracy: 0.9002 - val_loss: 0.2448 - val_accuracy: 0.8976 - 613ms/epoch - 24ms/step\n",
      "Epoch 8/50\n",
      "26/26 - 1s - loss: 0.2118 - accuracy: 0.9465 - val_loss: 0.2164 - val_accuracy: 0.9268 - 665ms/epoch - 26ms/step\n",
      "Epoch 9/50\n",
      "26/26 - 1s - loss: 0.1736 - accuracy: 0.9586 - val_loss: 0.1854 - val_accuracy: 0.9317 - 607ms/epoch - 23ms/step\n",
      "Epoch 10/50\n",
      "26/26 - 1s - loss: 0.1447 - accuracy: 0.9647 - val_loss: 0.1042 - val_accuracy: 0.9902 - 624ms/epoch - 24ms/step\n",
      "Epoch 11/50\n",
      "26/26 - 1s - loss: 0.1140 - accuracy: 0.9769 - val_loss: 0.1166 - val_accuracy: 0.9561 - 635ms/epoch - 24ms/step\n",
      "Epoch 12/50\n",
      "26/26 - 1s - loss: 0.0946 - accuracy: 0.9805 - val_loss: 0.0886 - val_accuracy: 0.9902 - 603ms/epoch - 23ms/step\n",
      "Epoch 13/50\n",
      "Restoring model weights from the end of the best epoch: 10.\n",
      "26/26 - 1s - loss: 0.1088 - accuracy: 0.9684 - val_loss: 0.4098 - val_accuracy: 0.8244 - 602ms/epoch - 23ms/step\n",
      "Epoch 13: early stopping\n"
     ]
    },
    {
     "data": {
      "text/plain": [
       "<keras.callbacks.History at 0x7fdaf005dc10>"
      ]
     },
     "execution_count": 16,
     "metadata": {},
     "output_type": "execute_result"
    }
   ],
   "source": [
    "model = build_model(dense_units=256)\n",
    "model.compile(\n",
    "    optimizer='sgd',\n",
    "    loss='sparse_categorical_crossentropy', \n",
    "    metrics=['accuracy'])\n",
    "  \n",
    "model.fit(train_batches, \n",
    "          epochs=50, \n",
    "          validation_data=validation_batches, \n",
    "          verbose=2,\n",
    "          callbacks=[EarlyStopping(\n",
    "              patience=3,\n",
    "              min_delta=0.05,\n",
    "              baseline=0.8,\n",
    "              mode='min',\n",
    "              monitor='val_loss',\n",
    "              restore_best_weights=True,\n",
    "              verbose=1)\n",
    "          ])"
   ]
  },
  {
   "cell_type": "markdown",
   "metadata": {
    "colab_type": "text",
    "id": "8mDzWUD4Pqq5"
   },
   "source": [
    "## [CSV Logger](https://keras.io/api/callbacks/csv_logger/)\n",
    "\n",
    "Callback that streams epoch results to a CSV file."
   ]
  },
  {
   "cell_type": "code",
   "execution_count": 17,
   "metadata": {
    "colab": {},
    "colab_type": "code",
    "id": "cffnMpmGPtMh"
   },
   "outputs": [
    {
     "name": "stdout",
     "output_type": "stream",
     "text": [
      "Epoch 1/5\n",
      "26/26 [==============================] - 1s 28ms/step - loss: 0.6541 - accuracy: 0.6217 - val_loss: 0.6787 - val_accuracy: 0.5220\n",
      "Epoch 2/5\n",
      "26/26 [==============================] - 1s 19ms/step - loss: 0.6177 - accuracy: 0.6703 - val_loss: 0.5666 - val_accuracy: 0.7902\n",
      "Epoch 3/5\n",
      "26/26 [==============================] - 1s 20ms/step - loss: 0.5379 - accuracy: 0.7482 - val_loss: 0.4758 - val_accuracy: 0.7805\n",
      "Epoch 4/5\n",
      "26/26 [==============================] - 1s 19ms/step - loss: 0.4791 - accuracy: 0.7968 - val_loss: 0.4119 - val_accuracy: 0.8439\n",
      "Epoch 5/5\n",
      "26/26 [==============================] - 1s 20ms/step - loss: 0.4135 - accuracy: 0.8260 - val_loss: 0.4243 - val_accuracy: 0.8146\n"
     ]
    },
    {
     "data": {
      "text/plain": [
       "<keras.callbacks.History at 0x7fdc144c1f40>"
      ]
     },
     "execution_count": 17,
     "metadata": {},
     "output_type": "execute_result"
    }
   ],
   "source": [
    "model = build_model(dense_units=256)\n",
    "model.compile(\n",
    "    optimizer='sgd',\n",
    "    loss='sparse_categorical_crossentropy', \n",
    "    metrics=['accuracy'])\n",
    "  \n",
    "csv_file = 'training.csv'\n",
    "\n",
    "model.fit(train_batches, \n",
    "          epochs=5, \n",
    "          validation_data=validation_batches, \n",
    "          callbacks=[CSVLogger(csv_file)\n",
    "          ])"
   ]
  },
  {
   "cell_type": "code",
   "execution_count": 18,
   "metadata": {
    "colab": {},
    "colab_type": "code",
    "id": "B9tkYi03QV7R"
   },
   "outputs": [
    {
     "data": {
      "text/html": [
       "<div>\n",
       "<style scoped>\n",
       "    .dataframe tbody tr th:only-of-type {\n",
       "        vertical-align: middle;\n",
       "    }\n",
       "\n",
       "    .dataframe tbody tr th {\n",
       "        vertical-align: top;\n",
       "    }\n",
       "\n",
       "    .dataframe thead th {\n",
       "        text-align: right;\n",
       "    }\n",
       "</style>\n",
       "<table border=\"1\" class=\"dataframe\">\n",
       "  <thead>\n",
       "    <tr style=\"text-align: right;\">\n",
       "      <th></th>\n",
       "      <th>epoch</th>\n",
       "      <th>accuracy</th>\n",
       "      <th>loss</th>\n",
       "      <th>val_accuracy</th>\n",
       "      <th>val_loss</th>\n",
       "    </tr>\n",
       "  </thead>\n",
       "  <tbody>\n",
       "    <tr>\n",
       "      <th>0</th>\n",
       "      <td>0</td>\n",
       "      <td>0.621655</td>\n",
       "      <td>0.654131</td>\n",
       "      <td>0.521951</td>\n",
       "      <td>0.678745</td>\n",
       "    </tr>\n",
       "    <tr>\n",
       "      <th>1</th>\n",
       "      <td>1</td>\n",
       "      <td>0.670316</td>\n",
       "      <td>0.617722</td>\n",
       "      <td>0.790244</td>\n",
       "      <td>0.566583</td>\n",
       "    </tr>\n",
       "    <tr>\n",
       "      <th>2</th>\n",
       "      <td>2</td>\n",
       "      <td>0.748175</td>\n",
       "      <td>0.537947</td>\n",
       "      <td>0.780488</td>\n",
       "      <td>0.475765</td>\n",
       "    </tr>\n",
       "    <tr>\n",
       "      <th>3</th>\n",
       "      <td>3</td>\n",
       "      <td>0.796837</td>\n",
       "      <td>0.479101</td>\n",
       "      <td>0.843902</td>\n",
       "      <td>0.411930</td>\n",
       "    </tr>\n",
       "    <tr>\n",
       "      <th>4</th>\n",
       "      <td>4</td>\n",
       "      <td>0.826034</td>\n",
       "      <td>0.413545</td>\n",
       "      <td>0.814634</td>\n",
       "      <td>0.424312</td>\n",
       "    </tr>\n",
       "  </tbody>\n",
       "</table>\n",
       "</div>"
      ],
      "text/plain": [
       "   epoch  accuracy      loss  val_accuracy  val_loss\n",
       "0      0  0.621655  0.654131      0.521951  0.678745\n",
       "1      1  0.670316  0.617722      0.790244  0.566583\n",
       "2      2  0.748175  0.537947      0.780488  0.475765\n",
       "3      3  0.796837  0.479101      0.843902  0.411930\n",
       "4      4  0.826034  0.413545      0.814634  0.424312"
      ]
     },
     "execution_count": 18,
     "metadata": {},
     "output_type": "execute_result"
    }
   ],
   "source": [
    "pd.read_csv(csv_file).head()"
   ]
  },
  {
   "cell_type": "markdown",
   "metadata": {
    "colab_type": "text",
    "id": "Dt9C2Y9fRBKN"
   },
   "source": [
    "## [Learning Rate Scheduler](https://keras.io/api/callbacks/learning_rate_scheduler/)\n",
    "\n",
    "Updates the learning rate during training."
   ]
  },
  {
   "cell_type": "code",
   "execution_count": 19,
   "metadata": {
    "colab": {},
    "colab_type": "code",
    "id": "aJi-xY2VRC03"
   },
   "outputs": [
    {
     "name": "stdout",
     "output_type": "stream",
     "text": [
      "\n",
      "Epoch 1: LearningRateScheduler setting learning rate to 0.005.\n",
      "Epoch 1/5\n",
      "26/26 [==============================] - 1s 30ms/step - loss: 0.6765 - accuracy: 0.5560 - val_loss: 0.6673 - val_accuracy: 0.6195 - lr: 0.0050\n",
      "\n",
      "Epoch 2: LearningRateScheduler setting learning rate to 0.0025.\n",
      "Epoch 2/5\n",
      "26/26 [==============================] - 1s 20ms/step - loss: 0.6513 - accuracy: 0.6302 - val_loss: 0.6572 - val_accuracy: 0.6098 - lr: 0.0025\n",
      "\n",
      "Epoch 3: LearningRateScheduler setting learning rate to 0.00125.\n",
      "Epoch 3/5\n",
      "26/26 [==============================] - 1s 20ms/step - loss: 0.6401 - accuracy: 0.7032 - val_loss: 0.6557 - val_accuracy: 0.5659 - lr: 0.0012\n",
      "\n",
      "Epoch 4: LearningRateScheduler setting learning rate to 0.000625.\n",
      "Epoch 4/5\n",
      "26/26 [==============================] - 1s 20ms/step - loss: 0.6338 - accuracy: 0.6752 - val_loss: 0.6500 - val_accuracy: 0.6146 - lr: 6.2500e-04\n",
      "\n",
      "Epoch 5: LearningRateScheduler setting learning rate to 0.0003125.\n",
      "Epoch 5/5\n",
      "26/26 [==============================] - 1s 26ms/step - loss: 0.6302 - accuracy: 0.7056 - val_loss: 0.6481 - val_accuracy: 0.6195 - lr: 3.1250e-04\n"
     ]
    },
    {
     "data": {
      "text/plain": [
       "<keras.callbacks.History at 0x7fdaf010b9a0>"
      ]
     },
     "execution_count": 19,
     "metadata": {},
     "output_type": "execute_result"
    }
   ],
   "source": [
    "model = build_model(dense_units=256)\n",
    "model.compile(\n",
    "    optimizer='sgd',\n",
    "    loss='sparse_categorical_crossentropy', \n",
    "    metrics=['accuracy'])\n",
    "  \n",
    "def step_decay(epoch):\n",
    "\tinitial_lr = 0.01\n",
    "\tdrop = 0.5\n",
    "\tepochs_drop = 1\n",
    "\tlr = initial_lr * math.pow(drop, math.floor((1+epoch)/epochs_drop))\n",
    "\treturn lr\n",
    "\n",
    "model.fit(train_batches, \n",
    "          epochs=5, \n",
    "          validation_data=validation_batches, \n",
    "          callbacks=[LearningRateScheduler(step_decay, verbose=1),\n",
    "                    TensorBoard(log_dir='./log_dir')])"
   ]
  },
  {
   "cell_type": "code",
   "execution_count": null,
   "metadata": {
    "colab": {},
    "colab_type": "code",
    "id": "M2S4n8nrbV91"
   },
   "outputs": [],
   "source": [
    "%tensorboard --logdir log_dir"
   ]
  },
  {
   "cell_type": "markdown",
   "metadata": {
    "colab_type": "text",
    "id": "y0wcuQyJE_UK"
   },
   "source": [
    "## [ReduceLROnPlateau](https://keras.io/api/callbacks/reduce_lr_on_plateau/)\n",
    "\n",
    "Reduce learning rate when a metric has stopped improving."
   ]
  },
  {
   "cell_type": "code",
   "execution_count": 20,
   "metadata": {
    "colab": {},
    "colab_type": "code",
    "id": "4naxZ-eCFB27"
   },
   "outputs": [
    {
     "name": "stdout",
     "output_type": "stream",
     "text": [
      "Epoch 1/50\n",
      "26/26 [==============================] - 1s 27ms/step - loss: 0.6688 - accuracy: 0.6071 - val_loss: 0.6431 - val_accuracy: 0.7561 - lr: 0.0100\n",
      "Epoch 2/50\n",
      "26/26 [==============================] - 1s 20ms/step - loss: 0.6220 - accuracy: 0.6837 - val_loss: 0.5965 - val_accuracy: 0.8000 - lr: 0.0100\n",
      "Epoch 3/50\n",
      "26/26 [==============================] - 1s 20ms/step - loss: 0.5878 - accuracy: 0.7117 - val_loss: 0.5457 - val_accuracy: 0.7220 - lr: 0.0100\n",
      "Epoch 4/50\n",
      "23/26 [=========================>....] - ETA: 0s - loss: 0.5208 - accuracy: 0.7649\n",
      "Epoch 4: ReduceLROnPlateau reducing learning rate to 0.0019999999552965165.\n",
      "26/26 [==============================] - 1s 20ms/step - loss: 0.5190 - accuracy: 0.7664 - val_loss: 0.6126 - val_accuracy: 0.6000 - lr: 0.0100\n",
      "Epoch 5/50\n",
      "26/26 [==============================] - 1s 19ms/step - loss: 0.4560 - accuracy: 0.8248 - val_loss: 0.4535 - val_accuracy: 0.8585 - lr: 0.0020\n",
      "Epoch 6/50\n",
      "26/26 [==============================] - 1s 20ms/step - loss: 0.4350 - accuracy: 0.8516 - val_loss: 0.4395 - val_accuracy: 0.8537 - lr: 0.0020\n",
      "Epoch 7/50\n",
      "26/26 [==============================] - 1s 19ms/step - loss: 0.4181 - accuracy: 0.8564 - val_loss: 0.4365 - val_accuracy: 0.8439 - lr: 0.0020\n",
      "Epoch 8/50\n",
      "26/26 [==============================] - 1s 19ms/step - loss: 0.4044 - accuracy: 0.8625 - val_loss: 0.3959 - val_accuracy: 0.8683 - lr: 0.0020\n",
      "Epoch 9/50\n",
      "26/26 [==============================] - 1s 20ms/step - loss: 0.3895 - accuracy: 0.8625 - val_loss: 0.3824 - val_accuracy: 0.8927 - lr: 0.0020\n",
      "Epoch 10/50\n",
      "26/26 [==============================] - 1s 19ms/step - loss: 0.3748 - accuracy: 0.8735 - val_loss: 0.3711 - val_accuracy: 0.8976 - lr: 0.0020\n",
      "Epoch 11/50\n",
      "26/26 [==============================] - 1s 19ms/step - loss: 0.3586 - accuracy: 0.8735 - val_loss: 0.3485 - val_accuracy: 0.8732 - lr: 0.0020\n",
      "Epoch 12/50\n",
      "26/26 [==============================] - 1s 19ms/step - loss: 0.3451 - accuracy: 0.8856 - val_loss: 0.3331 - val_accuracy: 0.8927 - lr: 0.0020\n",
      "Epoch 13/50\n",
      "26/26 [==============================] - 1s 20ms/step - loss: 0.3314 - accuracy: 0.8893 - val_loss: 0.3231 - val_accuracy: 0.9073 - lr: 0.0020\n",
      "Epoch 14/50\n",
      "26/26 [==============================] - 1s 20ms/step - loss: 0.3173 - accuracy: 0.9039 - val_loss: 0.3019 - val_accuracy: 0.9122 - lr: 0.0020\n",
      "Epoch 15/50\n",
      "26/26 [==============================] - 1s 20ms/step - loss: 0.3011 - accuracy: 0.9136 - val_loss: 0.2866 - val_accuracy: 0.9171 - lr: 0.0020\n",
      "Epoch 16/50\n",
      "25/26 [===========================>..] - ETA: 0s - loss: 0.2975 - accuracy: 0.9000\n",
      "Epoch 16: ReduceLROnPlateau reducing learning rate to 0.001.\n",
      "26/26 [==============================] - 1s 20ms/step - loss: 0.2967 - accuracy: 0.8990 - val_loss: 0.2934 - val_accuracy: 0.9122 - lr: 0.0020\n",
      "Epoch 17/50\n",
      "26/26 [==============================] - 1s 19ms/step - loss: 0.2756 - accuracy: 0.9234 - val_loss: 0.2810 - val_accuracy: 0.9171 - lr: 0.0010\n",
      "Epoch 18/50\n",
      "26/26 [==============================] - 1s 19ms/step - loss: 0.2689 - accuracy: 0.9246 - val_loss: 0.2653 - val_accuracy: 0.9171 - lr: 0.0010\n",
      "Epoch 19/50\n",
      "26/26 [==============================] - 1s 19ms/step - loss: 0.2616 - accuracy: 0.9282 - val_loss: 0.2895 - val_accuracy: 0.9024 - lr: 0.0010\n",
      "Epoch 20/50\n",
      "26/26 [==============================] - 1s 20ms/step - loss: 0.2590 - accuracy: 0.9282 - val_loss: 0.2541 - val_accuracy: 0.9220 - lr: 0.0010\n",
      "Epoch 21/50\n",
      "26/26 [==============================] - 1s 19ms/step - loss: 0.2511 - accuracy: 0.9294 - val_loss: 0.2441 - val_accuracy: 0.9366 - lr: 0.0010\n",
      "Epoch 22/50\n",
      "26/26 [==============================] - 1s 21ms/step - loss: 0.2447 - accuracy: 0.9380 - val_loss: 0.2583 - val_accuracy: 0.9268 - lr: 0.0010\n",
      "Epoch 23/50\n",
      "26/26 [==============================] - 1s 20ms/step - loss: 0.2393 - accuracy: 0.9392 - val_loss: 0.2301 - val_accuracy: 0.9366 - lr: 0.0010\n",
      "Epoch 24/50\n",
      "26/26 [==============================] - 1s 20ms/step - loss: 0.2319 - accuracy: 0.9343 - val_loss: 0.2311 - val_accuracy: 0.9366 - lr: 0.0010\n",
      "Epoch 25/50\n",
      "26/26 [==============================] - 1s 20ms/step - loss: 0.2263 - accuracy: 0.9428 - val_loss: 0.2195 - val_accuracy: 0.9366 - lr: 0.0010\n",
      "Epoch 26/50\n",
      "26/26 [==============================] - 1s 20ms/step - loss: 0.2189 - accuracy: 0.9501 - val_loss: 0.2488 - val_accuracy: 0.9268 - lr: 0.0010\n",
      "Epoch 27/50\n",
      "26/26 [==============================] - 1s 20ms/step - loss: 0.2177 - accuracy: 0.9465 - val_loss: 0.2174 - val_accuracy: 0.9366 - lr: 0.0010\n",
      "Epoch 28/50\n",
      "26/26 [==============================] - 1s 20ms/step - loss: 0.2085 - accuracy: 0.9586 - val_loss: 0.1999 - val_accuracy: 0.9415 - lr: 0.0010\n",
      "Epoch 29/50\n",
      "26/26 [==============================] - 1s 20ms/step - loss: 0.2046 - accuracy: 0.9562 - val_loss: 0.1966 - val_accuracy: 0.9415 - lr: 0.0010\n",
      "Epoch 30/50\n",
      "26/26 [==============================] - 1s 21ms/step - loss: 0.2019 - accuracy: 0.9526 - val_loss: 0.2195 - val_accuracy: 0.9317 - lr: 0.0010\n",
      "Epoch 31/50\n",
      "26/26 [==============================] - 1s 20ms/step - loss: 0.1933 - accuracy: 0.9635 - val_loss: 0.2090 - val_accuracy: 0.9366 - lr: 0.0010\n",
      "Epoch 32/50\n",
      "26/26 [==============================] - 1s 19ms/step - loss: 0.1890 - accuracy: 0.9623 - val_loss: 0.1821 - val_accuracy: 0.9463 - lr: 0.0010\n",
      "Epoch 33/50\n",
      "26/26 [==============================] - 1s 19ms/step - loss: 0.1832 - accuracy: 0.9696 - val_loss: 0.1885 - val_accuracy: 0.9463 - lr: 0.0010\n",
      "Epoch 34/50\n",
      "26/26 [==============================] - 1s 19ms/step - loss: 0.1800 - accuracy: 0.9659 - val_loss: 0.1765 - val_accuracy: 0.9512 - lr: 0.0010\n",
      "Epoch 35/50\n",
      "26/26 [==============================] - 1s 19ms/step - loss: 0.1759 - accuracy: 0.9647 - val_loss: 0.1800 - val_accuracy: 0.9463 - lr: 0.0010\n",
      "Epoch 36/50\n",
      "26/26 [==============================] - 1s 19ms/step - loss: 0.1693 - accuracy: 0.9708 - val_loss: 0.1855 - val_accuracy: 0.9512 - lr: 0.0010\n",
      "Epoch 37/50\n",
      "26/26 [==============================] - 1s 19ms/step - loss: 0.1682 - accuracy: 0.9672 - val_loss: 0.1770 - val_accuracy: 0.9512 - lr: 0.0010\n",
      "Epoch 38/50\n",
      "26/26 [==============================] - 1s 20ms/step - loss: 0.1612 - accuracy: 0.9732 - val_loss: 0.1589 - val_accuracy: 0.9561 - lr: 0.0010\n",
      "Epoch 39/50\n",
      "26/26 [==============================] - 1s 20ms/step - loss: 0.1591 - accuracy: 0.9696 - val_loss: 0.1671 - val_accuracy: 0.9561 - lr: 0.0010\n",
      "Epoch 40/50\n",
      "26/26 [==============================] - 1s 20ms/step - loss: 0.1516 - accuracy: 0.9745 - val_loss: 0.1792 - val_accuracy: 0.9463 - lr: 0.0010\n",
      "Epoch 41/50\n",
      "26/26 [==============================] - 1s 20ms/step - loss: 0.1490 - accuracy: 0.9757 - val_loss: 0.1675 - val_accuracy: 0.9512 - lr: 0.0010\n",
      "Epoch 42/50\n",
      "26/26 [==============================] - 1s 20ms/step - loss: 0.1450 - accuracy: 0.9745 - val_loss: 0.1692 - val_accuracy: 0.9512 - lr: 0.0010\n",
      "Epoch 43/50\n",
      "26/26 [==============================] - 1s 20ms/step - loss: 0.1415 - accuracy: 0.9732 - val_loss: 0.1673 - val_accuracy: 0.9463 - lr: 0.0010\n",
      "Epoch 44/50\n",
      "26/26 [==============================] - 1s 19ms/step - loss: 0.1401 - accuracy: 0.9757 - val_loss: 0.1392 - val_accuracy: 0.9561 - lr: 0.0010\n",
      "Epoch 45/50\n",
      "26/26 [==============================] - 1s 20ms/step - loss: 0.1335 - accuracy: 0.9781 - val_loss: 0.1366 - val_accuracy: 0.9561 - lr: 0.0010\n",
      "Epoch 46/50\n",
      "26/26 [==============================] - 1s 20ms/step - loss: 0.1306 - accuracy: 0.9769 - val_loss: 0.1939 - val_accuracy: 0.9268 - lr: 0.0010\n",
      "Epoch 47/50\n",
      "26/26 [==============================] - 1s 20ms/step - loss: 0.1342 - accuracy: 0.9757 - val_loss: 0.1362 - val_accuracy: 0.9610 - lr: 0.0010\n",
      "Epoch 48/50\n",
      "26/26 [==============================] - 1s 19ms/step - loss: 0.1261 - accuracy: 0.9769 - val_loss: 0.1410 - val_accuracy: 0.9659 - lr: 0.0010\n",
      "Epoch 49/50\n",
      "26/26 [==============================] - 1s 20ms/step - loss: 0.1215 - accuracy: 0.9805 - val_loss: 0.1351 - val_accuracy: 0.9610 - lr: 0.0010\n",
      "Epoch 50/50\n",
      "26/26 [==============================] - 1s 19ms/step - loss: 0.1199 - accuracy: 0.9805 - val_loss: 0.1337 - val_accuracy: 0.9659 - lr: 0.0010\n"
     ]
    },
    {
     "data": {
      "text/plain": [
       "<keras.callbacks.History at 0x7fdc142a8940>"
      ]
     },
     "execution_count": 20,
     "metadata": {},
     "output_type": "execute_result"
    }
   ],
   "source": [
    "model = build_model(dense_units=256)\n",
    "model.compile(\n",
    "    optimizer='sgd',\n",
    "    loss='sparse_categorical_crossentropy', \n",
    "    metrics=['accuracy'])\n",
    "  \n",
    "model.fit(train_batches, \n",
    "          epochs=50, \n",
    "          validation_data=validation_batches, \n",
    "          callbacks=[ReduceLROnPlateau(monitor='val_loss', \n",
    "                                       factor=0.2, verbose=1,\n",
    "                                       patience=1, min_lr=0.001),\n",
    "                     TensorBoard(log_dir='./log_dir')])"
   ]
  },
  {
   "cell_type": "code",
   "execution_count": null,
   "metadata": {
    "colab": {},
    "colab_type": "code",
    "id": "isfTWP4NYudk"
   },
   "outputs": [],
   "source": [
    "%tensorboard --logdir log_dir"
   ]
  }
 ],
 "metadata": {
  "colab": {
   "collapsed_sections": [],
   "include_colab_link": true,
   "name": "ExploringCallbacks.ipynb",
   "provenance": []
  },
  "kernelspec": {
   "display_name": "Python 3 (ipykernel)",
   "language": "python",
   "name": "python3"
  },
  "language_info": {
   "codemirror_mode": {
    "name": "ipython",
    "version": 3
   },
   "file_extension": ".py",
   "mimetype": "text/x-python",
   "name": "python",
   "nbconvert_exporter": "python",
   "pygments_lexer": "ipython3",
   "version": "3.9.16"
  }
 },
 "nbformat": 4,
 "nbformat_minor": 4
}
