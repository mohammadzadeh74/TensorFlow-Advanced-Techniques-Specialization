{
 "cells": [
  {
   "cell_type": "markdown",
   "metadata": {},
   "source": [
    "# Ungraded Lab: Practice with the Keras Functional API\n",
    "\n",
    "This lab will demonstrate how to build models with the Functional syntax. You'll build one using the Sequential API and see how you can do the same with the Functional API. Both will arrive at the same architecture and you can train and evaluate it as usual."
   ]
  },
  {
   "cell_type": "markdown",
   "metadata": {},
   "source": [
    "## Imports"
   ]
  },
  {
   "cell_type": "code",
   "execution_count": 2,
   "metadata": {},
   "outputs": [],
   "source": [
    "try:\n",
    "  # %tensorflow_version only exists in Colab.\n",
    "  %tensorflow_version 2.x\n",
    "except Exception:\n",
    "  pass\n",
    "\n",
    "import tensorflow as tf\n",
    "from tensorflow.python.keras.utils.vis_utils import plot_model\n",
    "import pydot\n",
    "from tensorflow.keras.models import Model"
   ]
  },
  {
   "cell_type": "markdown",
   "metadata": {},
   "source": [
    "## Sequential API\n",
    "\n",
    "Here is how we use the `Sequential()` class to build a model."
   ]
  },
  {
   "cell_type": "code",
   "execution_count": 3,
   "metadata": {
    "colab": {},
    "colab_type": "code",
    "id": "04Y-C9RYUTes"
   },
   "outputs": [],
   "source": [
    "def build_model_with_sequential():\n",
    "    \n",
    "    # instantiate a Sequential class and linearly stack the layers of your model\n",
    "    seq_model = tf.keras.models.Sequential([tf.keras.layers.Flatten(input_shape=(28, 28)),\n",
    "                                            tf.keras.layers.Dense(128, activation=tf.nn.relu),\n",
    "                                            tf.keras.layers.Dense(10, activation=tf.nn.softmax)])\n",
    "    return seq_model"
   ]
  },
  {
   "cell_type": "markdown",
   "metadata": {},
   "source": [
    "## Functional API\n",
    "\n",
    "And here is how you build the same model above with the functional syntax."
   ]
  },
  {
   "cell_type": "code",
   "execution_count": 4,
   "metadata": {},
   "outputs": [],
   "source": [
    "def build_model_with_functional():\n",
    "    \n",
    "    # instantiate the input Tensor\n",
    "    input_layer = tf.keras.Input(shape=(28, 28))\n",
    "    \n",
    "    # stack the layers using the syntax: new_layer()(previous_layer)\n",
    "    flatten_layer = tf.keras.layers.Flatten()(input_layer)\n",
    "    first_dense = tf.keras.layers.Dense(128, activation=tf.nn.relu)(flatten_layer)\n",
    "    output_layer = tf.keras.layers.Dense(10, activation=tf.nn.softmax)(first_dense)\n",
    "    \n",
    "    # declare inputs and outputs\n",
    "    func_model = Model(inputs=input_layer, outputs=output_layer)\n",
    "    \n",
    "    return func_model"
   ]
  },
  {
   "cell_type": "markdown",
   "metadata": {},
   "source": [
    "## Build the model and visualize the model graph"
   ]
  },
  {
   "cell_type": "markdown",
   "metadata": {},
   "source": [
    "You can choose how to build your model below. Just uncomment which function you'd like to use. You'll notice that the plot will look the same."
   ]
  },
  {
   "cell_type": "code",
   "execution_count": null,
   "metadata": {},
   "outputs": [],
   "source": [
    "model = build_model_with_functional()\n",
    "#model = build_model_with_sequential()\n",
    "\n",
    "# Plot model graph\n",
    "plot_model(model, show_shapes=True, show_layer_names=True, to_file='model.png')"
   ]
  },
  {
   "cell_type": "markdown",
   "metadata": {},
   "source": [
    "## Training the model\n",
    "\n",
    "Regardless if you built it with the Sequential or Functional API, you'll follow the same steps when training and evaluating your model."
   ]
  },
  {
   "cell_type": "code",
   "execution_count": 7,
   "metadata": {},
   "outputs": [
    {
     "name": "stdout",
     "output_type": "stream",
     "text": [
      "Epoch 1/15\n",
      "1875/1875 [==============================] - 2s 848us/step - loss: 0.2789 - accuracy: 0.8967\n",
      "Epoch 2/15\n",
      "1875/1875 [==============================] - 2s 845us/step - loss: 0.2692 - accuracy: 0.9007\n",
      "Epoch 3/15\n",
      "1875/1875 [==============================] - 2s 829us/step - loss: 0.2556 - accuracy: 0.9047\n",
      "Epoch 4/15\n",
      "1875/1875 [==============================] - 2s 827us/step - loss: 0.2473 - accuracy: 0.9075\n",
      "Epoch 5/15\n",
      "1875/1875 [==============================] - 2s 816us/step - loss: 0.2389 - accuracy: 0.9112\n",
      "Epoch 6/15\n",
      "1875/1875 [==============================] - 2s 858us/step - loss: 0.2300 - accuracy: 0.9138\n",
      "Epoch 7/15\n",
      "1875/1875 [==============================] - 2s 830us/step - loss: 0.2207 - accuracy: 0.9175\n",
      "Epoch 8/15\n",
      "1875/1875 [==============================] - 2s 850us/step - loss: 0.2169 - accuracy: 0.9194\n",
      "Epoch 9/15\n",
      "1875/1875 [==============================] - 2s 878us/step - loss: 0.2088 - accuracy: 0.9220\n",
      "Epoch 10/15\n",
      "1875/1875 [==============================] - 2s 820us/step - loss: 0.2039 - accuracy: 0.9237\n",
      "Epoch 11/15\n",
      "1875/1875 [==============================] - 2s 854us/step - loss: 0.1974 - accuracy: 0.9259\n",
      "Epoch 12/15\n",
      "1875/1875 [==============================] - 2s 865us/step - loss: 0.1951 - accuracy: 0.9270\n",
      "Epoch 13/15\n",
      "1875/1875 [==============================] - 2s 969us/step - loss: 0.1893 - accuracy: 0.9286\n",
      "Epoch 14/15\n",
      "1875/1875 [==============================] - 2s 1ms/step - loss: 0.1851 - accuracy: 0.9311\n",
      "Epoch 15/15\n",
      "1875/1875 [==============================] - 2s 958us/step - loss: 0.1802 - accuracy: 0.9328\n",
      "313/313 [==============================] - 0s 735us/step - loss: 0.3481 - accuracy: 0.8860\n"
     ]
    },
    {
     "data": {
      "text/plain": [
       "[0.3480914831161499, 0.8859999775886536]"
      ]
     },
     "execution_count": 7,
     "metadata": {},
     "output_type": "execute_result"
    }
   ],
   "source": [
    "# prepare fashion mnist dataset\n",
    "mnist = tf.keras.datasets.fashion_mnist\n",
    "(training_images, training_labels), (test_images, test_labels) = mnist.load_data()\n",
    "training_images = training_images / 255.0\n",
    "test_images = test_images / 255.0\n",
    "\n",
    "# configure, train, and evaluate the model\n",
    "model.compile(optimizer=tf.optimizers.Adam(),\n",
    "              loss='sparse_categorical_crossentropy',\n",
    "              metrics=['accuracy'])\n",
    "model.fit(training_images, training_labels, epochs=15)\n",
    "model.evaluate(test_images, test_labels)"
   ]
  }
 ],
 "metadata": {
  "colab": {
   "include_colab_link": true,
   "name": "FunctionalCoLab1.ipynb",
   "provenance": []
  },
  "kernelspec": {
   "display_name": "Python 3",
   "language": "python",
   "name": "python3"
  },
  "language_info": {
   "codemirror_mode": {
    "name": "ipython",
    "version": 3
   },
   "file_extension": ".py",
   "mimetype": "text/x-python",
   "name": "python",
   "nbconvert_exporter": "python",
   "pygments_lexer": "ipython3",
   "version": "3.9.18"
  }
 },
 "nbformat": 4,
 "nbformat_minor": 4
}
