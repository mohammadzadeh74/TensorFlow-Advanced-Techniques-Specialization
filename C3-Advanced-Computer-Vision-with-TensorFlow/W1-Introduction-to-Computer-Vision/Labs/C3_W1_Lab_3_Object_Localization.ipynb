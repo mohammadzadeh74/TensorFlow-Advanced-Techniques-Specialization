{
 "cells": [
  {
   "cell_type": "markdown",
   "metadata": {
    "id": "KsjDCIat6_UK"
   },
   "source": [
    "# Image Classification and Object Localization\n",
    "\n",
    "In this lab, you'll build a CNN from scratch to:\n",
    "- classify the main subject in an image\n",
    "- localize it by drawing bounding boxes around it.\n",
    "\n",
    "You'll use the [MNIST](http://yann.lecun.com/exdb/mnist/) dataset to synthesize a custom dataset for the task:\n",
    "- Place each \"digit\" image on a black canvas of width 75 x 75 at random locations.\n",
    "- Calculate the corresponding bounding boxes for those \"digits\".\n",
    "\n",
    "The bounding box prediction can be modelled as a \"regression\" task, which means that the model will predict a numeric value (as opposed to a category)."
   ]
  },
  {
   "cell_type": "markdown",
   "metadata": {
    "id": "qpiJj8ym0v0-"
   },
   "source": [
    "## Imports"
   ]
  },
  {
   "cell_type": "code",
   "execution_count": 2,
   "metadata": {
    "id": "AoilhmYe1b5t"
   },
   "outputs": [
    {
     "name": "stdout",
     "output_type": "stream",
     "text": [
      "Tensorflow version 2.10.0\n"
     ]
    }
   ],
   "source": [
    "import os, re, time, json\n",
    "import PIL.Image, PIL.ImageFont, PIL.ImageDraw\n",
    "import numpy as np\n",
    "try:\n",
    "    # %tensorflow_version only exists in Colab.\n",
    "    %tensorflow_version 2.x\n",
    "except Exception:\n",
    "    pass\n",
    "import tensorflow as tf\n",
    "from matplotlib import pyplot as plt\n",
    "import tensorflow_datasets as tfds\n",
    "\n",
    "print(\"Tensorflow version \" + tf.__version__)"
   ]
  },
  {
   "cell_type": "markdown",
   "metadata": {
    "id": "xmoFKEd98MP3"
   },
   "source": [
    "# Visualization Utilities\n",
    "\n",
    "These functions are used to draw bounding boxes around the digits."
   ]
  },
  {
   "cell_type": "code",
   "execution_count": 3,
   "metadata": {
    "id": "tBjj1Fg-i_lc"
   },
   "outputs": [],
   "source": [
    "#@title Plot Utilities for Bounding Boxes [RUN ME]\n",
    "\n",
    "im_width = 75\n",
    "im_height = 75\n",
    "use_normalized_coordinates = True\n",
    "\n",
    "def draw_bounding_boxes_on_image_array(image,\n",
    "                                       boxes,\n",
    "                                       color=[],\n",
    "                                       thickness=1,\n",
    "                                       display_str_list=()):\n",
    "    \"\"\" Draws bounding boxes on image (numpy array).\n",
    "    Args:\n",
    "        image: \n",
    "            a numpy array object.\n",
    "        boxes: \n",
    "            a 2 dimensional numpy array of [N, 4]: (ymin, xmin, ymax, xmax).\n",
    "            The coordinates are in normalized format between [0, 1].\n",
    "        color: \n",
    "            color to draw bounding box. Default is red.\n",
    "        thickness: \n",
    "            line thickness. Default value is 4.\n",
    "        display_str_list_list: \n",
    "            a list of strings for each bounding box.\n",
    "    Raises:\n",
    "      ValueError: if boxes is not a [N, 4] array\n",
    "    \"\"\"\n",
    "    image_pil = PIL.Image.fromarray(image)\n",
    "    rgbimg = PIL.Image.new(\"RGBA\", image_pil.size)\n",
    "    rgbimg.paste(image_pil)\n",
    "    draw_bounding_boxes_on_image(rgbimg, boxes, color, thickness, display_str_list)\n",
    "    return np.array(rgbimg)\n",
    "  \n",
    "\n",
    "def draw_bounding_boxes_on_image(image,\n",
    "                                 boxes,\n",
    "                                 color=[],\n",
    "                                 thickness=1,\n",
    "                                 display_str_list=()):\n",
    "    \"\"\" Draws bounding boxes on image.\n",
    "    Args:\n",
    "        image: \n",
    "            a PIL.Image object.\n",
    "        boxes: \n",
    "            a 2 dimensional numpy array of [N, 4]: (ymin, xmin, ymax, xmax).\n",
    "            The coordinates are in normalized format between [0, 1].\n",
    "        color: \n",
    "            color to draw bounding box. Default is red.\n",
    "        thickness: \n",
    "            line thickness. Default value is 4.\n",
    "        display_str_list: \n",
    "            a list of strings for each bounding box.\n",
    "                           \n",
    "    Raises:\n",
    "        ValueError: \n",
    "            if boxes is not a [N, 4] array\n",
    "    \"\"\"\n",
    "    boxes_shape = boxes.shape\n",
    "    if not boxes_shape:\n",
    "        return\n",
    "    if len(boxes_shape) != 2 or boxes_shape[1] != 4:\n",
    "        raise ValueError('Input must be of size [N, 4]')\n",
    "    for i in range(boxes_shape[0]):\n",
    "        draw_bounding_box_on_image(image, boxes[i, 1], boxes[i, 0], boxes[i, 3],\n",
    "                                   boxes[i, 2], color[i], thickness, display_str_list[i])\n",
    "        \n",
    "def draw_bounding_box_on_image(image,\n",
    "                               ymin,\n",
    "                               xmin,\n",
    "                               ymax,\n",
    "                               xmax,\n",
    "                               color='red',\n",
    "                               thickness=1,\n",
    "                               display_str=None,\n",
    "                               use_normalized_coordinates=True):\n",
    "    \"\"\" Adds a bounding box to an image.\n",
    "    Bounding box coordinates can be specified in either absolute (pixel) or\n",
    "    normalized coordinates by setting the use_normalized_coordinates argument.\n",
    "    Args:\n",
    "        image: \n",
    "            a PIL.Image object.\n",
    "        ymin: \n",
    "            ymin of bounding box.\n",
    "        xmin: \n",
    "            xmin of bounding box.\n",
    "        ymax: \n",
    "            ymax of bounding box.\n",
    "        xmax: \n",
    "            xmax of bounding box.\n",
    "        color: \n",
    "            color to draw bounding box. Default is red.\n",
    "        thickness: \n",
    "            line thickness. Default value is 4.\n",
    "        display_str_list: \n",
    "            string to display in box\n",
    "        use_normalized_coordinates: \n",
    "            If True (default), treat coordinates ymin, xmin, ymax, xmax as relative to the image.  \n",
    "            Otherwise treat coordinates as absolute.\n",
    "    \"\"\"\n",
    "    draw = PIL.ImageDraw.Draw(image)\n",
    "    im_width, im_height = image.size\n",
    "    if use_normalized_coordinates:\n",
    "        (left, right, top, bottom) = (xmin * im_width, xmax * im_width,\n",
    "                                      ymin * im_height, ymax * im_height)\n",
    "    else:\n",
    "        (left, right, top, bottom) = (xmin, xmax, ymin, ymax)\n",
    "    draw.line([(left, top), (left, bottom), (right, bottom),\n",
    "               (right, top), (left, top)], width=thickness, fill=color) "
   ]
  },
  {
   "cell_type": "markdown",
   "metadata": {
    "id": "USx9tRBF8hWy"
   },
   "source": [
    "These utilities are used to visualize the data and predictions."
   ]
  },
  {
   "cell_type": "code",
   "execution_count": 4,
   "metadata": {
    "id": "qhdz68Xm3Z4Z"
   },
   "outputs": [],
   "source": [
    "#@title Visualization Utilities [RUN ME]\n",
    "\"\"\"\n",
    "This cell contains helper functions used for visualization\n",
    "and downloads only. \n",
    "\n",
    "You can skip reading it, as there is very\n",
    "little Keras or Tensorflow related code here.\n",
    "\"\"\"\n",
    "\n",
    "# Matplotlib config\n",
    "plt.rc('image', cmap='gray')\n",
    "plt.rc('grid', linewidth=0)\n",
    "plt.rc('xtick', top=False, bottom=False, labelsize='large')\n",
    "plt.rc('ytick', left=False, right=False, labelsize='large')\n",
    "plt.rc('axes', facecolor='F8F8F8', titlesize=\"large\", edgecolor='white')\n",
    "plt.rc('text', color='a8151a')\n",
    "plt.rc('figure', facecolor='F0F0F0')# Matplotlib fonts\n",
    "MATPLOTLIB_FONT_DIR = os.path.join(os.path.dirname(plt.__file__), \"mpl-data/fonts/ttf\")\n",
    "\n",
    "# pull a batch from the datasets. This code is not very nice, it gets much better in eager mode (TODO)\n",
    "def dataset_to_numpy_util(training_dataset, validation_dataset, N):\n",
    "  \n",
    "    # get one batch from each: 10000 validation digits, N training digits\n",
    "    batch_train_ds = training_dataset.unbatch().batch(N)\n",
    "  \n",
    "    # eager execution: loop through datasets normally\n",
    "    if tf.executing_eagerly():\n",
    "        for validation_digits, (validation_labels, validation_bboxes) in validation_dataset:\n",
    "            validation_digits = validation_digits.numpy()\n",
    "            validation_labels = validation_labels.numpy()\n",
    "            validation_bboxes = validation_bboxes.numpy()\n",
    "            break\n",
    "        for training_digits, (training_labels, training_bboxes) in batch_train_ds:\n",
    "            training_digits = training_digits.numpy()\n",
    "            training_labels = training_labels.numpy()\n",
    "            training_bboxes = training_bboxes.numpy()\n",
    "            break\n",
    "  \n",
    "    # these were one-hot encoded in the dataset\n",
    "    validation_labels = np.argmax(validation_labels, axis=1)\n",
    "    training_labels = np.argmax(training_labels, axis=1)\n",
    "  \n",
    "    return (training_digits, training_labels, training_bboxes,\n",
    "            validation_digits, validation_labels, validation_bboxes)\n",
    "\n",
    "# create digits from local fonts for testing\n",
    "def create_digits_from_local_fonts(n):\n",
    "    font_labels = []\n",
    "    img = PIL.Image.new('LA', (75*n, 75), color = (0,255))  # format 'LA': black in channel 0, alpha in channel 1\n",
    "    font1 = PIL.ImageFont.truetype(os.path.join(MATPLOTLIB_FONT_DIR, 'DejaVuSansMono-Oblique.ttf'), 25)\n",
    "    font2 = PIL.ImageFont.truetype(os.path.join(MATPLOTLIB_FONT_DIR, 'STIXGeneral.ttf'), 25)\n",
    "    d = PIL.ImageDraw.Draw(img)\n",
    "    for i in range(n):\n",
    "        font_labels.append(i%10)\n",
    "        d.text((7+i*75,0 if i<10 else -4), str(i%10), fill=(255,255), font=font1 if i<10 else font2)\n",
    "    font_digits = np.array(img.getdata(), np.float32)[:,0] / 255.0  # black in channel 0, alpha in channel 1 (discarded)\n",
    "    font_digits = np.reshape(np.stack(np.split(np.reshape(font_digits, [75, 75*n]), n, axis=1), axis=0), [n, 75*75])\n",
    "    return font_digits, font_labels\n",
    "\n",
    "\n",
    "# utility to display a row of digits with their predictions\n",
    "def display_digits_with_boxes(digits, predictions, labels, pred_bboxes, bboxes, iou, title):\n",
    "\n",
    "    n = 10\n",
    "\n",
    "    indexes = np.random.choice(len(predictions), size=n)\n",
    "    n_digits = digits[indexes]\n",
    "    n_predictions = predictions[indexes]\n",
    "    n_labels = labels[indexes]\n",
    "\n",
    "    n_iou = []\n",
    "    if len(iou) > 0:\n",
    "        n_iou = iou[indexes]\n",
    "\n",
    "    if (len(pred_bboxes) > 0):\n",
    "        n_pred_bboxes = pred_bboxes[indexes,:]\n",
    "\n",
    "    if (len(bboxes) > 0):\n",
    "        n_bboxes = bboxes[indexes,:]\n",
    "\n",
    "    n_digits = n_digits * 255.0\n",
    "    n_digits = n_digits.reshape(n, 75, 75)\n",
    "    fig = plt.figure(figsize=(20, 4))\n",
    "    plt.title(title)\n",
    "    plt.yticks([])\n",
    "    plt.xticks([])\n",
    "  \n",
    "    for i in range(10):\n",
    "        ax = fig.add_subplot(1, 10, i+1)\n",
    "        bboxes_to_plot = []\n",
    "        if (len(pred_bboxes) > i):\n",
    "            bboxes_to_plot.append(n_pred_bboxes[i])\n",
    "    \n",
    "        if (len(bboxes) > i):\n",
    "            bboxes_to_plot.append(n_bboxes[i])\n",
    "\n",
    "        img_to_draw = draw_bounding_boxes_on_image_array(image=n_digits[i], boxes=np.asarray(bboxes_to_plot), color=['red', 'green'], display_str_list=[\"true\", \"pred\"])\n",
    "        plt.xlabel(n_predictions[i])\n",
    "        plt.xticks([])\n",
    "        plt.yticks([])\n",
    "\n",
    "        if n_predictions[i] != n_labels[i]:\n",
    "            ax.xaxis.label.set_color('red')\n",
    "\n",
    "        plt.imshow(img_to_draw)\n",
    "\n",
    "        if len(iou) > i :\n",
    "            color = \"black\"\n",
    "            if (n_iou[i][0] < iou_threshold):\n",
    "                color = \"red\"\n",
    "            ax.text(0.2, -0.3, \"iou: %s\" %(n_iou[i][0]), color=color, transform=ax.transAxes)\n",
    "\n",
    "\n",
    "# utility to display training and validation curves\n",
    "def plot_metrics(metric_name, title, ylim=5):\n",
    "    plt.title(title)\n",
    "    plt.ylim(0,ylim)\n",
    "    plt.plot(history.history[metric_name],color='blue',label=metric_name)\n",
    "    plt.plot(history.history['val_' + metric_name],color='green',label='val_' + metric_name)"
   ]
  },
  {
   "cell_type": "markdown",
   "metadata": {
    "id": "_Ok__0RB-M8S"
   },
   "source": [
    "## Selecting Between Strategies"
   ]
  },
  {
   "cell_type": "markdown",
   "metadata": {
    "id": "R4jujVYWY9-6"
   },
   "source": [
    "### TPU or GPU detection\n",
    "\n",
    "Depending on the hardware available, you'll use different distribution strategies.  For a review on distribution strategies, please check out the second course in this specialization [\"Custom and Distributed Training with TensorFlow\"](https://www.coursera.org/learn/custom-distributed-training-with-tensorflow), week 4, \"Distributed Training\".\n",
    "\n",
    "- If the TPU is available, then you'll be using the TPU Strategy.\n",
    "Otherwise:\n",
    "- If more than one GPU is available, then you'll use the Mirrored Strategy\n",
    "- If one GPU is available or if just the CPU is available, you'll use the default strategy."
   ]
  },
  {
   "cell_type": "code",
   "execution_count": 6,
   "metadata": {
    "id": "Hd5zB1G7Y9-7"
   },
   "outputs": [
    {
     "name": "stdout",
     "output_type": "stream",
     "text": [
      "Running on single GPU  /device:GPU:0\n",
      "Number of accelerators:  1\n"
     ]
    }
   ],
   "source": [
    "# Detect hardware\n",
    "try:\n",
    "    tpu = tf.distribute.cluster_resolver.TPUClusterResolver() # TPU detection\n",
    "except ValueError:\n",
    "    tpu = None\n",
    "    gpus = tf.config.experimental.list_logical_devices(\"GPU\")\n",
    "    \n",
    "# Select appropriate distribution strategy\n",
    "if tpu:\n",
    "    tf.config.experimental_connect_to_cluster(tpu)\n",
    "    tf.tpu.experimental.initialize_tpu_system(tpu)\n",
    "    strategy = tf.distribute.experimental.TPUStrategy(tpu)  # Going back and forth between TPU and host is expensive. Better to run 128 batches on the TPU before reporting back.\n",
    "    print('Running on TPU ', tpu.cluster_spec().as_dict()['worker'])  \n",
    "elif len(gpus) > 1:\n",
    "    strategy = tf.distribute.MirroredStrategy([gpu.name for gpu in gpus])\n",
    "    print('Running on multiple GPUs ', [gpu.name for gpu in gpus])\n",
    "elif len(gpus) == 1:\n",
    "    strategy = tf.distribute.get_strategy()  # default strategy that works on CPU and single GPU\n",
    "    print('Running on single GPU ', gpus[0].name)\n",
    "else:\n",
    "    strategy = tf.distribute.get_strategy()  # default strategy that works on CPU and single GPU\n",
    "    print('Running on CPU')\n",
    "print(\"Number of accelerators: \", strategy.num_replicas_in_sync)"
   ]
  },
  {
   "cell_type": "markdown",
   "metadata": {
    "id": "Lvo0t7XVIkWZ"
   },
   "source": [
    "### Parameters\n",
    "\n",
    "The global batch size is the batch size per replica (64 in this case) times the number of replicas in the distribution strategy."
   ]
  },
  {
   "cell_type": "code",
   "execution_count": 7,
   "metadata": {
    "id": "cCpkS9C_H7Tl"
   },
   "outputs": [],
   "source": [
    "BATCH_SIZE = 64 * strategy.num_replicas_in_sync  # Gobal batch size.\n",
    "# The global batch size will be automatically sharded across all\n",
    "# replicas by the tf.data.Dataset API. A single TPU has 8 cores.\n",
    "# The best practice is to scale the batch size by the number of\n",
    "# replicas (cores). The learning rate should be increased as well."
   ]
  },
  {
   "cell_type": "markdown",
   "metadata": {
    "id": "JVkc7nzg-WUy"
   },
   "source": [
    "## Loading and Preprocessing the Dataset\n",
    "\n",
    "Define some helper functions that will pre-process your data:\n",
    "- `read_image_tfds`: randomly overlays the \"digit\" image on top of a larger canvas.\n",
    "- `get_training_dataset`: loads data and splits it to get the training set.\n",
    "- `get_validation_dataset`: loads and splits the data to get the validation set."
   ]
  },
  {
   "cell_type": "code",
   "execution_count": 8,
   "metadata": {
    "id": "ZE8dgyPC1_6m"
   },
   "outputs": [
    {
     "name": "stderr",
     "output_type": "stream",
     "text": [
      "2023-03-21 18:04:30.136677: W tensorflow/core/platform/cloud/google_auth_provider.cc:184] All attempts to get a Google authentication bearer token failed, returning an empty token. Retrieving token from files failed with \"NOT_FOUND: Could not locate the credentials file.\". Retrieving token from GCE failed with \"FAILED_PRECONDITION: Error executing an HTTP request: libcurl code 6 meaning 'Couldn't resolve host name', error details: Could not resolve host: metadata\".\n"
     ]
    }
   ],
   "source": [
    "'''\n",
    "Transforms each image in dataset by pasting it on a 75x75 canvas at random locations.\n",
    "'''\n",
    "def read_image_tfds(image, label):\n",
    "    xmin = tf.random.uniform((), 0 , 48, dtype=tf.int32)\n",
    "    ymin = tf.random.uniform((), 0 , 48, dtype=tf.int32)\n",
    "    image = tf.reshape(image, (28,28,1,))\n",
    "    image = tf.image.pad_to_bounding_box(image, ymin, xmin, 75, 75)\n",
    "    image = tf.cast(image, tf.float32)/255.0\n",
    "    xmin = tf.cast(xmin, tf.float32)\n",
    "    ymin = tf.cast(ymin, tf.float32)\n",
    "   \n",
    "    xmax = (xmin + 28) / 75\n",
    "    ymax = (ymin + 28) / 75\n",
    "    xmin = xmin / 75\n",
    "    ymin = ymin / 75\n",
    "    return image, (tf.one_hot(label, 10), [xmin, ymin, xmax, ymax])\n",
    "  \n",
    "'''\n",
    "Loads and maps the training split of the dataset using the map function. \n",
    "Note that we try to load the gcs version since TPU can only work with datasets on Google Cloud Storage.\n",
    "'''\n",
    "def get_training_dataset():  \n",
    "    with strategy.scope():\n",
    "        dataset = tfds.load(\"mnist\", split=\"train\", as_supervised=True, try_gcs=True)\n",
    "        dataset = dataset.map(read_image_tfds, num_parallel_calls=16)\n",
    "        dataset = dataset.shuffle(5000, reshuffle_each_iteration=True)\n",
    "        dataset = dataset.repeat()  # Mandatory for Keras for now\n",
    "        dataset = dataset.batch(BATCH_SIZE, drop_remainder=True)  # drop_remainder is important on TPU, batch size must be fixed\n",
    "        dataset = dataset.prefetch(-1)  # fetch next batches while training on the current one (-1: autotune prefetch buffer size)\n",
    "    return dataset\n",
    "\n",
    "'''\n",
    "Loads and maps the validation split of the dataset using the map function. \n",
    "Note that we try to load the gcs version since TPU can only work with datasets on Google Cloud Storage.\n",
    "'''  \n",
    "def get_validation_dataset():\n",
    "    dataset = tfds.load(\"mnist\", split=\"test\", as_supervised=True, try_gcs=True)\n",
    "    dataset = dataset.map(read_image_tfds, num_parallel_calls=16)\n",
    "\n",
    "    #dataset = dataset.cache() # this small dataset can be entirely cached in RAM\n",
    "    dataset = dataset.batch(10000, drop_remainder=True) # 10000 items in eval dataset, all in one batch\n",
    "    dataset = dataset.repeat() # Mandatory for Keras for now\n",
    "    return dataset\n",
    "\n",
    "# instantiate the datasets\n",
    "with strategy.scope():\n",
    "    training_dataset = get_training_dataset()\n",
    "    validation_dataset = get_validation_dataset()"
   ]
  },
  {
   "cell_type": "markdown",
   "metadata": {
    "id": "_fXo6GuvL3EB"
   },
   "source": [
    "### Visualize Data"
   ]
  },
  {
   "cell_type": "code",
   "execution_count": 9,
   "metadata": {
    "id": "yZ4tjPKvL2eh"
   },
   "outputs": [
    {
     "name": "stderr",
     "output_type": "stream",
     "text": [
      "2023-03-21 18:04:47.598627: W tensorflow/core/kernels/data/cache_dataset_ops.cc:856] The calling iterator did not fully read the dataset being cached. In order to avoid unexpected truncation of the dataset, the partially cached contents of the dataset  will be discarded. This can happen if you have an input pipeline similar to `dataset.cache().take(k).repeat()`. You should use `dataset.take(k).cache().repeat()` instead.\n"
     ]
    },
    {
     "data": {
      "image/png": "[encoded data removed]",
      "text/plain": [
       "<Figure size 2000x400 with 11 Axes>"
      ]
     },
     "metadata": {},
     "output_type": "display_data"
    },
    {
     "data": {
      "image/png": "[encoded data removed]",
      "text/plain": [
       "<Figure size 2000x400 with 11 Axes>"
      ]
     },
     "metadata": {},
     "output_type": "display_data"
    }
   ],
   "source": [
    "(training_digits, training_labels, training_bboxes,\n",
    " validation_digits, validation_labels, validation_bboxes) = dataset_to_numpy_util(training_dataset, \n",
    "                                                                                  validation_dataset, \n",
    "                                                                                  10)\n",
    "\n",
    "display_digits_with_boxes(training_digits, training_labels, training_labels, \n",
    "                          np.array([]), training_bboxes, np.array([]), \"training digits and their labels\")\n",
    "display_digits_with_boxes(validation_digits, validation_labels, validation_labels, \n",
    "                          np.array([]), validation_bboxes, np.array([]), \"validation digits and their labels\")\n"
   ]
  },
  {
   "cell_type": "markdown",
   "metadata": {
    "id": "f8nHWWkS_eeZ"
   },
   "source": [
    "## Define the Network\n",
    "\n",
    "Here, you'll define your custom CNN. \n",
    "- `feature_extractor`: these convolutional layers extract the features of the image.\n",
    "- `classifier`:  This define the output layer that predicts among 10 categories (digits 0 through 9)\n",
    "- `bounding_box_regression`: This defines the output layer that predicts 4 numeric values, which define the coordinates of the bounding box (xmin, ymin, xmax, ymax)\n",
    "- `final_model`: This combines the layers for feature extraction, classification and bounding box prediction.  \n",
    "  - Notice that this is another example of a branching model, because the model splits to produce two kinds of output (a category and set of numbers).  \n",
    "  - Since you've learned to use the Functional API earlier in the specialization (course 1), you have the flexibility to define this kind of branching model!\n",
    "- `define_and_compile_model`: choose the optimizer and metrics, then compile the model."
   ]
  },
  {
   "cell_type": "code",
   "execution_count": 10,
   "metadata": {
    "id": "56y8UNFQIVwj"
   },
   "outputs": [
    {
     "name": "stdout",
     "output_type": "stream",
     "text": [
      "Model: \"model\"\n",
      "__________________________________________________________________________________________________\n",
      " Layer (type)                   Output Shape         Param #     Connected to                     \n",
      "==================================================================================================\n",
      " input_1 (InputLayer)           [(None, 75, 75, 1)]  0           []                               \n",
      "                                                                                                  \n",
      " conv2d (Conv2D)                (None, 73, 73, 16)   160         ['input_1[0][0]']                \n",
      "                                                                                                  \n",
      " average_pooling2d (AveragePool  (None, 36, 36, 16)  0           ['conv2d[0][0]']                 \n",
      " ing2D)                                                                                           \n",
      "                                                                                                  \n",
      " conv2d_1 (Conv2D)              (None, 34, 34, 32)   4640        ['average_pooling2d[0][0]']      \n",
      "                                                                                                  \n",
      " average_pooling2d_1 (AveragePo  (None, 17, 17, 32)  0           ['conv2d_1[0][0]']               \n",
      " oling2D)                                                                                         \n",
      "                                                                                                  \n",
      " conv2d_2 (Conv2D)              (None, 15, 15, 64)   18496       ['average_pooling2d_1[0][0]']    \n",
      "                                                                                                  \n",
      " average_pooling2d_2 (AveragePo  (None, 7, 7, 64)    0           ['conv2d_2[0][0]']               \n",
      " oling2D)                                                                                         \n",
      "                                                                                                  \n",
      " flatten (Flatten)              (None, 3136)         0           ['average_pooling2d_2[0][0]']    \n",
      "                                                                                                  \n",
      " dense (Dense)                  (None, 128)          401536      ['flatten[0][0]']                \n",
      "                                                                                                  \n",
      " classification (Dense)         (None, 10)           1290        ['dense[0][0]']                  \n",
      "                                                                                                  \n",
      " bounding_box (Dense)           (None, 4)            516         ['dense[0][0]']                  \n",
      "                                                                                                  \n",
      "==================================================================================================\n",
      "Total params: 426,638\n",
      "Trainable params: 426,638\n",
      "Non-trainable params: 0\n",
      "__________________________________________________________________________________________________\n"
     ]
    }
   ],
   "source": [
    "'''\n",
    "Feature extractor is the CNN that is made up of convolution and pooling layers.\n",
    "'''\n",
    "def feature_extractor(inputs):\n",
    "    x = tf.keras.layers.Conv2D(16, activation='relu', kernel_size=3, input_shape=(75, 75, 1))(inputs)\n",
    "    x = tf.keras.layers.AveragePooling2D((2, 2))(x)\n",
    "\n",
    "    x = tf.keras.layers.Conv2D(32, kernel_size=3, activation='relu')(x)\n",
    "    x = tf.keras.layers.AveragePooling2D((2, 2))(x)\n",
    "\n",
    "    x = tf.keras.layers.Conv2D(64, kernel_size=3, activation='relu')(x)\n",
    "    x = tf.keras.layers.AveragePooling2D((2, 2))(x)\n",
    "\n",
    "    return x\n",
    "\n",
    "'''\n",
    "dense_layers adds a flatten and dense layer.\n",
    "This will follow the feature extraction layers\n",
    "'''\n",
    "def dense_layers(inputs):\n",
    "    x = tf.keras.layers.Flatten()(inputs)\n",
    "    x = tf.keras.layers.Dense(128, activation='relu')(x)\n",
    "    return x\n",
    "\n",
    "\n",
    "'''\n",
    "Classifier defines the classification output.\n",
    "This has a set of fully connected layers and a softmax layer.\n",
    "'''\n",
    "def classifier(inputs):\n",
    "    classification_output = tf.keras.layers.Dense(10, activation='softmax', name = 'classification')(inputs)\n",
    "    return classification_output\n",
    "\n",
    "\n",
    "'''\n",
    "This function defines the regression output for bounding box prediction. \n",
    "Note that we have four outputs corresponding to (xmin, ymin, xmax, ymax)\n",
    "'''\n",
    "def bounding_box_regression(inputs):\n",
    "    bounding_box_regression_output = tf.keras.layers.Dense(units = '4', name = 'bounding_box')(inputs)\n",
    "    return bounding_box_regression_output\n",
    "\n",
    "\n",
    "def final_model(inputs):\n",
    "    feature_cnn = feature_extractor(inputs)\n",
    "    dense_output = dense_layers(feature_cnn)\n",
    "\n",
    "    '''\n",
    "    The model branches here.  \n",
    "    The dense layer's output gets fed into two branches:\n",
    "    classification_output and bounding_box_output\n",
    "    '''\n",
    "    classification_output = classifier(dense_output)\n",
    "    bounding_box_output = bounding_box_regression(dense_output)\n",
    "\n",
    "    model = tf.keras.Model(inputs=inputs, \n",
    "                           outputs=[classification_output, bounding_box_output])\n",
    "\n",
    "    return model\n",
    "  \n",
    "\n",
    "def define_and_compile_model(inputs):\n",
    "    model = final_model(inputs)\n",
    "  \n",
    "    model.compile(optimizer='adam', \n",
    "                  loss = {'classification' : 'categorical_crossentropy',\n",
    "                          'bounding_box' : 'mse'},\n",
    "                  metrics = {'classification' : 'accuracy',\n",
    "                             'bounding_box' : 'mse'})\n",
    "    return model\n",
    "\n",
    "    \n",
    "with strategy.scope():\n",
    "    inputs = tf.keras.layers.Input(shape=(75, 75, 1,))\n",
    "    model = define_and_compile_model(inputs)\n",
    "\n",
    "# print model layers\n",
    "model.summary()"
   ]
  },
  {
   "cell_type": "markdown",
   "metadata": {
    "id": "CuhDh8ao8VyB"
   },
   "source": [
    "### Train and validate the model"
   ]
  },
  {
   "cell_type": "markdown",
   "metadata": {
    "id": "kv0BQTPsKrkt"
   },
   "source": [
    "Train the model.  \n",
    "- You can choose the number of epochs depending on the level of performance that you want and the time that you have.\n",
    "- Each epoch will take just a few seconds if you're using the TPU."
   ]
  },
  {
   "cell_type": "code",
   "execution_count": 11,
   "metadata": {
    "id": "TTwH_P-ZJ_xx"
   },
   "outputs": [
    {
     "name": "stdout",
     "output_type": "stream",
     "text": [
      "Epoch 1/45\n"
     ]
    },
    {
     "name": "stderr",
     "output_type": "stream",
     "text": [
      "2023-03-21 18:04:58.593729: I tensorflow/stream_executor/cuda/cuda_dnn.cc:384] Loaded cuDNN version 8401\n"
     ]
    },
    {
     "name": "stdout",
     "output_type": "stream",
     "text": [
      "930/937 [============================>.] - ETA: 0s - loss: 0.9526 - classification_loss: 0.9386 - bounding_box_loss: 0.0140 - classification_accuracy: 0.6686 - bounding_box_mse: 0.0140"
     ]
    },
    {
     "name": "stderr",
     "output_type": "stream",
     "text": [
      "2023-03-21 18:05:06.709397: W tensorflow/core/common_runtime/bfc_allocator.cc:290] Allocator (GPU_0_bfc) ran out of memory trying to allocate 3.19GiB with freed_by_count=0. The caller indicates that this is not a failure, but this may mean that there could be performance gains if more memory were available.\n",
      "2023-03-21 18:05:06.709438: W tensorflow/core/kernels/gpu_utils.cc:50] Failed to allocate memory for convolution redzone checking; skipping this check. This is benign and only means that we won't check cudnn for out-of-bounds reads and writes. This message will only be printed once.\n",
      "2023-03-21 18:05:07.660631: W tensorflow/core/common_runtime/bfc_allocator.cc:290] Allocator (GPU_0_bfc) ran out of memory trying to allocate 3.19GiB with freed_by_count=0. The caller indicates that this is not a failure, but this may mean that there could be performance gains if more memory were available.\n",
      "2023-03-21 18:05:08.616709: W tensorflow/core/common_runtime/bfc_allocator.cc:290] Allocator (GPU_0_bfc) ran out of memory trying to allocate 2.17GiB with freed_by_count=0. The caller indicates that this is not a failure, but this may mean that there could be performance gains if more memory were available.\n",
      "2023-03-21 18:05:08.616769: W tensorflow/core/common_runtime/bfc_allocator.cc:290] Allocator (GPU_0_bfc) ran out of memory trying to allocate 2.17GiB with freed_by_count=0. The caller indicates that this is not a failure, but this may mean that there could be performance gains if more memory were available.\n"
     ]
    },
    {
     "name": "stdout",
     "output_type": "stream",
     "text": [
      "937/937 [==============================] - 14s 10ms/step - loss: 0.9478 - classification_loss: 0.9339 - bounding_box_loss: 0.0139 - classification_accuracy: 0.6702 - bounding_box_mse: 0.0139 - val_loss: 0.2897 - val_classification_loss: 0.2815 - val_bounding_box_loss: 0.0082 - val_classification_accuracy: 0.9151 - val_bounding_box_mse: 0.0082\n",
      "Epoch 2/45\n",
      "937/937 [==============================] - 7s 7ms/step - loss: 0.2494 - classification_loss: 0.2439 - bounding_box_loss: 0.0055 - classification_accuracy: 0.9269 - bounding_box_mse: 0.0055 - val_loss: 0.1682 - val_classification_loss: 0.1646 - val_bounding_box_loss: 0.0037 - val_classification_accuracy: 0.9497 - val_bounding_box_mse: 0.0037\n",
      "Epoch 3/45\n",
      "937/937 [==============================] - 7s 7ms/step - loss: 0.1797 - classification_loss: 0.1765 - bounding_box_loss: 0.0032 - classification_accuracy: 0.9471 - bounding_box_mse: 0.0032 - val_loss: 0.1711 - val_classification_loss: 0.1683 - val_bounding_box_loss: 0.0028 - val_classification_accuracy: 0.9488 - val_bounding_box_mse: 0.0028\n",
      "Epoch 4/45\n",
      "937/937 [==============================] - 7s 7ms/step - loss: 0.1456 - classification_loss: 0.1434 - bounding_box_loss: 0.0022 - classification_accuracy: 0.9558 - bounding_box_mse: 0.0022 - val_loss: 0.1174 - val_classification_loss: 0.1152 - val_bounding_box_loss: 0.0022 - val_classification_accuracy: 0.9627 - val_bounding_box_mse: 0.0022\n",
      "Epoch 5/45\n",
      "937/937 [==============================] - 7s 7ms/step - loss: 0.1237 - classification_loss: 0.1219 - bounding_box_loss: 0.0018 - classification_accuracy: 0.9619 - bounding_box_mse: 0.0018 - val_loss: 0.0904 - val_classification_loss: 0.0886 - val_bounding_box_loss: 0.0018 - val_classification_accuracy: 0.9720 - val_bounding_box_mse: 0.0018\n",
      "Epoch 6/45\n",
      "937/937 [==============================] - 7s 7ms/step - loss: 0.1093 - classification_loss: 0.1078 - bounding_box_loss: 0.0015 - classification_accuracy: 0.9670 - bounding_box_mse: 0.0015 - val_loss: 0.0794 - val_classification_loss: 0.0781 - val_bounding_box_loss: 0.0013 - val_classification_accuracy: 0.9747 - val_bounding_box_mse: 0.0013\n",
      "Epoch 7/45\n",
      "937/937 [==============================] - 7s 7ms/step - loss: 0.0984 - classification_loss: 0.0970 - bounding_box_loss: 0.0014 - classification_accuracy: 0.9694 - bounding_box_mse: 0.0014 - val_loss: 0.0903 - val_classification_loss: 0.0890 - val_bounding_box_loss: 0.0013 - val_classification_accuracy: 0.9705 - val_bounding_box_mse: 0.0013\n",
      "Epoch 8/45\n",
      "937/937 [==============================] - 7s 7ms/step - loss: 0.0891 - classification_loss: 0.0878 - bounding_box_loss: 0.0013 - classification_accuracy: 0.9729 - bounding_box_mse: 0.0013 - val_loss: 0.0929 - val_classification_loss: 0.0915 - val_bounding_box_loss: 0.0014 - val_classification_accuracy: 0.9721 - val_bounding_box_mse: 0.0014\n",
      "Epoch 9/45\n",
      "937/937 [==============================] - 7s 7ms/step - loss: 0.0825 - classification_loss: 0.0814 - bounding_box_loss: 0.0011 - classification_accuracy: 0.9756 - bounding_box_mse: 0.0011 - val_loss: 0.0651 - val_classification_loss: 0.0640 - val_bounding_box_loss: 0.0012 - val_classification_accuracy: 0.9792 - val_bounding_box_mse: 0.0012\n",
      "Epoch 10/45\n",
      "937/937 [==============================] - 7s 7ms/step - loss: 0.0737 - classification_loss: 0.0726 - bounding_box_loss: 0.0011 - classification_accuracy: 0.9776 - bounding_box_mse: 0.0011 - val_loss: 0.0638 - val_classification_loss: 0.0628 - val_bounding_box_loss: 0.0010 - val_classification_accuracy: 0.9776 - val_bounding_box_mse: 0.0010\n",
      "Epoch 11/45\n",
      "937/937 [==============================] - 7s 7ms/step - loss: 0.0684 - classification_loss: 0.0674 - bounding_box_loss: 0.0010 - classification_accuracy: 0.9796 - bounding_box_mse: 0.0010 - val_loss: 0.0658 - val_classification_loss: 0.0648 - val_bounding_box_loss: 9.4314e-04 - val_classification_accuracy: 0.9797 - val_bounding_box_mse: 9.4314e-04\n",
      "Epoch 12/45\n",
      "937/937 [==============================] - 7s 7ms/step - loss: 0.0649 - classification_loss: 0.0639 - bounding_box_loss: 0.0010 - classification_accuracy: 0.9800 - bounding_box_mse: 0.0010 - val_loss: 0.0597 - val_classification_loss: 0.0587 - val_bounding_box_loss: 0.0010 - val_classification_accuracy: 0.9804 - val_bounding_box_mse: 0.0010\n",
      "Epoch 13/45\n",
      "937/937 [==============================] - 7s 7ms/step - loss: 0.0614 - classification_loss: 0.0604 - bounding_box_loss: 0.0010 - classification_accuracy: 0.9812 - bounding_box_mse: 0.0010 - val_loss: 0.0530 - val_classification_loss: 0.0521 - val_bounding_box_loss: 9.2155e-04 - val_classification_accuracy: 0.9827 - val_bounding_box_mse: 9.2155e-04\n",
      "Epoch 14/45\n",
      "937/937 [==============================] - 7s 7ms/step - loss: 0.0591 - classification_loss: 0.0581 - bounding_box_loss: 9.6963e-04 - classification_accuracy: 0.9828 - bounding_box_mse: 9.6963e-04 - val_loss: 0.0443 - val_classification_loss: 0.0434 - val_bounding_box_loss: 8.9053e-04 - val_classification_accuracy: 0.9861 - val_bounding_box_mse: 8.9053e-04\n",
      "Epoch 15/45\n",
      "937/937 [==============================] - 7s 7ms/step - loss: 0.0559 - classification_loss: 0.0549 - bounding_box_loss: 9.9758e-04 - classification_accuracy: 0.9831 - bounding_box_mse: 9.9758e-04 - val_loss: 0.0427 - val_classification_loss: 0.0417 - val_bounding_box_loss: 9.7664e-04 - val_classification_accuracy: 0.9860 - val_bounding_box_mse: 9.7664e-04\n",
      "Epoch 16/45\n",
      "937/937 [==============================] - 7s 7ms/step - loss: 0.0512 - classification_loss: 0.0502 - bounding_box_loss: 9.5270e-04 - classification_accuracy: 0.9843 - bounding_box_mse: 9.5270e-04 - val_loss: 0.0378 - val_classification_loss: 0.0369 - val_bounding_box_loss: 8.6985e-04 - val_classification_accuracy: 0.9878 - val_bounding_box_mse: 8.6985e-04\n",
      "Epoch 17/45\n",
      "937/937 [==============================] - 7s 7ms/step - loss: 0.0496 - classification_loss: 0.0486 - bounding_box_loss: 9.6383e-04 - classification_accuracy: 0.9849 - bounding_box_mse: 9.6383e-04 - val_loss: 0.0390 - val_classification_loss: 0.0381 - val_bounding_box_loss: 8.8262e-04 - val_classification_accuracy: 0.9872 - val_bounding_box_mse: 8.8262e-04\n",
      "Epoch 18/45\n",
      "937/937 [==============================] - 7s 7ms/step - loss: 0.0461 - classification_loss: 0.0451 - bounding_box_loss: 9.8975e-04 - classification_accuracy: 0.9863 - bounding_box_mse: 9.8975e-04 - val_loss: 0.0452 - val_classification_loss: 0.0444 - val_bounding_box_loss: 8.4110e-04 - val_classification_accuracy: 0.9862 - val_bounding_box_mse: 8.4110e-04\n",
      "Epoch 19/45\n",
      "937/937 [==============================] - 7s 7ms/step - loss: 0.0457 - classification_loss: 0.0447 - bounding_box_loss: 9.7568e-04 - classification_accuracy: 0.9867 - bounding_box_mse: 9.7568e-04 - val_loss: 0.0441 - val_classification_loss: 0.0433 - val_bounding_box_loss: 8.6235e-04 - val_classification_accuracy: 0.9852 - val_bounding_box_mse: 8.6235e-04\n",
      "Epoch 20/45\n",
      "937/937 [==============================] - 7s 7ms/step - loss: 0.0422 - classification_loss: 0.0412 - bounding_box_loss: 9.2591e-04 - classification_accuracy: 0.9871 - bounding_box_mse: 9.2591e-04 - val_loss: 0.0355 - val_classification_loss: 0.0345 - val_bounding_box_loss: 9.9257e-04 - val_classification_accuracy: 0.9881 - val_bounding_box_mse: 9.9257e-04\n",
      "Epoch 21/45\n",
      "937/937 [==============================] - 7s 7ms/step - loss: 0.0423 - classification_loss: 0.0413 - bounding_box_loss: 9.4887e-04 - classification_accuracy: 0.9871 - bounding_box_mse: 9.4887e-04 - val_loss: 0.0353 - val_classification_loss: 0.0344 - val_bounding_box_loss: 8.9200e-04 - val_classification_accuracy: 0.9890 - val_bounding_box_mse: 8.9200e-04\n",
      "Epoch 22/45\n",
      "937/937 [==============================] - 7s 7ms/step - loss: 0.0406 - classification_loss: 0.0397 - bounding_box_loss: 9.2569e-04 - classification_accuracy: 0.9875 - bounding_box_mse: 9.2569e-04 - val_loss: 0.0384 - val_classification_loss: 0.0374 - val_bounding_box_loss: 9.5679e-04 - val_classification_accuracy: 0.9882 - val_bounding_box_mse: 9.5679e-04\n",
      "Epoch 23/45\n",
      "937/937 [==============================] - 7s 7ms/step - loss: 0.0379 - classification_loss: 0.0370 - bounding_box_loss: 9.2135e-04 - classification_accuracy: 0.9886 - bounding_box_mse: 9.2135e-04 - val_loss: 0.0414 - val_classification_loss: 0.0403 - val_bounding_box_loss: 0.0010 - val_classification_accuracy: 0.9877 - val_bounding_box_mse: 0.0010\n"
     ]
    },
    {
     "name": "stdout",
     "output_type": "stream",
     "text": [
      "Epoch 24/45\n",
      "937/937 [==============================] - 7s 7ms/step - loss: 0.0380 - classification_loss: 0.0371 - bounding_box_loss: 9.5415e-04 - classification_accuracy: 0.9882 - bounding_box_mse: 9.5415e-04 - val_loss: 0.0372 - val_classification_loss: 0.0362 - val_bounding_box_loss: 9.6743e-04 - val_classification_accuracy: 0.9882 - val_bounding_box_mse: 9.6743e-04\n",
      "Epoch 25/45\n",
      "937/937 [==============================] - 7s 7ms/step - loss: 0.0360 - classification_loss: 0.0351 - bounding_box_loss: 9.1077e-04 - classification_accuracy: 0.9891 - bounding_box_mse: 9.1077e-04 - val_loss: 0.0374 - val_classification_loss: 0.0366 - val_bounding_box_loss: 8.1685e-04 - val_classification_accuracy: 0.9872 - val_bounding_box_mse: 8.1685e-04\n",
      "Epoch 26/45\n",
      "937/937 [==============================] - 7s 7ms/step - loss: 0.0357 - classification_loss: 0.0348 - bounding_box_loss: 9.0858e-04 - classification_accuracy: 0.9895 - bounding_box_mse: 9.0858e-04 - val_loss: 0.0343 - val_classification_loss: 0.0335 - val_bounding_box_loss: 8.3712e-04 - val_classification_accuracy: 0.9887 - val_bounding_box_mse: 8.3712e-04\n",
      "Epoch 27/45\n",
      "937/937 [==============================] - 7s 7ms/step - loss: 0.0344 - classification_loss: 0.0335 - bounding_box_loss: 9.1516e-04 - classification_accuracy: 0.9899 - bounding_box_mse: 9.1516e-04 - val_loss: 0.0363 - val_classification_loss: 0.0351 - val_bounding_box_loss: 0.0012 - val_classification_accuracy: 0.9884 - val_bounding_box_mse: 0.0012\n",
      "Epoch 28/45\n",
      "937/937 [==============================] - 7s 7ms/step - loss: 0.0320 - classification_loss: 0.0310 - bounding_box_loss: 9.3852e-04 - classification_accuracy: 0.9903 - bounding_box_mse: 9.3852e-04 - val_loss: 0.0333 - val_classification_loss: 0.0324 - val_bounding_box_loss: 9.4893e-04 - val_classification_accuracy: 0.9885 - val_bounding_box_mse: 9.4893e-04\n",
      "Epoch 29/45\n",
      "937/937 [==============================] - 7s 7ms/step - loss: 0.0329 - classification_loss: 0.0319 - bounding_box_loss: 9.4228e-04 - classification_accuracy: 0.9901 - bounding_box_mse: 9.4228e-04 - val_loss: 0.0320 - val_classification_loss: 0.0312 - val_bounding_box_loss: 8.4823e-04 - val_classification_accuracy: 0.9885 - val_bounding_box_mse: 8.4823e-04\n",
      "Epoch 30/45\n",
      "937/937 [==============================] - 7s 7ms/step - loss: 0.0311 - classification_loss: 0.0302 - bounding_box_loss: 8.9607e-04 - classification_accuracy: 0.9905 - bounding_box_mse: 8.9607e-04 - val_loss: 0.0288 - val_classification_loss: 0.0279 - val_bounding_box_loss: 8.2242e-04 - val_classification_accuracy: 0.9912 - val_bounding_box_mse: 8.2242e-04\n",
      "Epoch 31/45\n",
      "937/937 [==============================] - 7s 7ms/step - loss: 0.0301 - classification_loss: 0.0292 - bounding_box_loss: 9.3198e-04 - classification_accuracy: 0.9909 - bounding_box_mse: 9.3198e-04 - val_loss: 0.0270 - val_classification_loss: 0.0262 - val_bounding_box_loss: 8.4472e-04 - val_classification_accuracy: 0.9913 - val_bounding_box_mse: 8.4472e-04\n",
      "Epoch 32/45\n",
      "937/937 [==============================] - 7s 7ms/step - loss: 0.0298 - classification_loss: 0.0289 - bounding_box_loss: 9.2997e-04 - classification_accuracy: 0.9910 - bounding_box_mse: 9.2997e-04 - val_loss: 0.0321 - val_classification_loss: 0.0312 - val_bounding_box_loss: 9.2198e-04 - val_classification_accuracy: 0.9898 - val_bounding_box_mse: 9.2198e-04\n",
      "Epoch 33/45\n",
      "937/937 [==============================] - 7s 7ms/step - loss: 0.0287 - classification_loss: 0.0278 - bounding_box_loss: 9.1721e-04 - classification_accuracy: 0.9918 - bounding_box_mse: 9.1721e-04 - val_loss: 0.0296 - val_classification_loss: 0.0287 - val_bounding_box_loss: 9.0717e-04 - val_classification_accuracy: 0.9897 - val_bounding_box_mse: 9.0717e-04\n",
      "Epoch 34/45\n",
      "937/937 [==============================] - 7s 7ms/step - loss: 0.0277 - classification_loss: 0.0268 - bounding_box_loss: 9.1892e-04 - classification_accuracy: 0.9918 - bounding_box_mse: 9.1892e-04 - val_loss: 0.0287 - val_classification_loss: 0.0279 - val_bounding_box_loss: 8.6573e-04 - val_classification_accuracy: 0.9909 - val_bounding_box_mse: 8.6573e-04\n",
      "Epoch 35/45\n",
      "937/937 [==============================] - 7s 7ms/step - loss: 0.0273 - classification_loss: 0.0264 - bounding_box_loss: 9.4236e-04 - classification_accuracy: 0.9918 - bounding_box_mse: 9.4236e-04 - val_loss: 0.0315 - val_classification_loss: 0.0305 - val_bounding_box_loss: 9.7490e-04 - val_classification_accuracy: 0.9901 - val_bounding_box_mse: 9.7490e-04\n",
      "Epoch 36/45\n",
      "937/937 [==============================] - 7s 8ms/step - loss: 0.0265 - classification_loss: 0.0255 - bounding_box_loss: 9.1699e-04 - classification_accuracy: 0.9916 - bounding_box_mse: 9.1699e-04 - val_loss: 0.0262 - val_classification_loss: 0.0254 - val_bounding_box_loss: 7.7719e-04 - val_classification_accuracy: 0.9904 - val_bounding_box_mse: 7.7719e-04\n",
      "Epoch 37/45\n",
      "937/937 [==============================] - 7s 7ms/step - loss: 0.0257 - classification_loss: 0.0248 - bounding_box_loss: 9.1699e-04 - classification_accuracy: 0.9923 - bounding_box_mse: 9.1699e-04 - val_loss: 0.0279 - val_classification_loss: 0.0271 - val_bounding_box_loss: 8.6081e-04 - val_classification_accuracy: 0.9921 - val_bounding_box_mse: 8.6081e-04\n",
      "Epoch 38/45\n",
      "937/937 [==============================] - 7s 7ms/step - loss: 0.0248 - classification_loss: 0.0240 - bounding_box_loss: 8.8501e-04 - classification_accuracy: 0.9920 - bounding_box_mse: 8.8501e-04 - val_loss: 0.0274 - val_classification_loss: 0.0265 - val_bounding_box_loss: 8.6431e-04 - val_classification_accuracy: 0.9911 - val_bounding_box_mse: 8.6431e-04\n",
      "Epoch 39/45\n",
      "937/937 [==============================] - 7s 7ms/step - loss: 0.0244 - classification_loss: 0.0235 - bounding_box_loss: 9.0007e-04 - classification_accuracy: 0.9927 - bounding_box_mse: 9.0007e-04 - val_loss: 0.0304 - val_classification_loss: 0.0294 - val_bounding_box_loss: 9.4034e-04 - val_classification_accuracy: 0.9914 - val_bounding_box_mse: 9.4034e-04\n",
      "Epoch 40/45\n",
      "937/937 [==============================] - 7s 7ms/step - loss: 0.0235 - classification_loss: 0.0226 - bounding_box_loss: 8.7818e-04 - classification_accuracy: 0.9926 - bounding_box_mse: 8.7818e-04 - val_loss: 0.0270 - val_classification_loss: 0.0260 - val_bounding_box_loss: 9.8035e-04 - val_classification_accuracy: 0.9915 - val_bounding_box_mse: 9.8035e-04\n",
      "Epoch 41/45\n",
      "937/937 [==============================] - 7s 7ms/step - loss: 0.0240 - classification_loss: 0.0231 - bounding_box_loss: 8.7188e-04 - classification_accuracy: 0.9927 - bounding_box_mse: 8.7188e-04 - val_loss: 0.0278 - val_classification_loss: 0.0268 - val_bounding_box_loss: 9.6420e-04 - val_classification_accuracy: 0.9904 - val_bounding_box_mse: 9.6420e-04\n",
      "Epoch 42/45\n",
      "937/937 [==============================] - 7s 7ms/step - loss: 0.0230 - classification_loss: 0.0222 - bounding_box_loss: 8.6638e-04 - classification_accuracy: 0.9932 - bounding_box_mse: 8.6638e-04 - val_loss: 0.0274 - val_classification_loss: 0.0266 - val_bounding_box_loss: 7.9229e-04 - val_classification_accuracy: 0.9913 - val_bounding_box_mse: 7.9229e-04\n",
      "Epoch 43/45\n",
      "937/937 [==============================] - 7s 7ms/step - loss: 0.0241 - classification_loss: 0.0232 - bounding_box_loss: 8.2542e-04 - classification_accuracy: 0.9926 - bounding_box_mse: 8.2542e-04 - val_loss: 0.0342 - val_classification_loss: 0.0334 - val_bounding_box_loss: 8.0570e-04 - val_classification_accuracy: 0.9902 - val_bounding_box_mse: 8.0570e-04\n",
      "Epoch 44/45\n",
      "937/937 [==============================] - 7s 7ms/step - loss: 0.0228 - classification_loss: 0.0219 - bounding_box_loss: 8.0298e-04 - classification_accuracy: 0.9929 - bounding_box_mse: 8.0298e-04 - val_loss: 0.0295 - val_classification_loss: 0.0287 - val_bounding_box_loss: 8.0320e-04 - val_classification_accuracy: 0.9903 - val_bounding_box_mse: 8.0320e-04\n",
      "Epoch 45/45\n",
      "937/937 [==============================] - 7s 7ms/step - loss: 0.0221 - classification_loss: 0.0213 - bounding_box_loss: 8.0599e-04 - classification_accuracy: 0.9935 - bounding_box_mse: 8.0599e-04 - val_loss: 0.0295 - val_classification_loss: 0.0288 - val_bounding_box_loss: 7.3969e-04 - val_classification_accuracy: 0.9911 - val_bounding_box_mse: 7.3969e-04\n"
     ]
    },
    {
     "name": "stdout",
     "output_type": "stream",
     "text": [
      "1/1 [==============================] - 0s 420ms/step - loss: 0.0265 - classification_loss: 0.0258 - bounding_box_loss: 7.1438e-04 - classification_accuracy: 0.9919 - bounding_box_mse: 7.1438e-04\n",
      "Validation accuracy:  0.9919000267982483\n"
     ]
    }
   ],
   "source": [
    "EPOCHS = 45 # 45\n",
    "steps_per_epoch = 60000//BATCH_SIZE  # 60,000 items in this dataset\n",
    "validation_steps = 1\n",
    "\n",
    "history = model.fit(training_dataset,\n",
    "                    steps_per_epoch=steps_per_epoch, \n",
    "                    validation_data=validation_dataset, \n",
    "                    validation_steps=validation_steps, \n",
    "                    epochs=EPOCHS)\n",
    "\n",
    "(loss, classification_loss, bounding_box_loss, \n",
    " classification_accuracy, bounding_box_mse) = model.evaluate(validation_dataset, steps=1)\n",
    "print(\"Validation accuracy: \", classification_accuracy)"
   ]
  },
  {
   "cell_type": "code",
   "execution_count": 12,
   "metadata": {
    "id": "Cz-b8TxU6EDj",
    "scrolled": false
   },
   "outputs": [
    {
     "data": {
      "image/png": "[encoded data removed]",
      "text/plain": [
       "<Figure size 640x480 with 1 Axes>"
      ]
     },
     "metadata": {},
     "output_type": "display_data"
    }
   ],
   "source": [
    "plot_metrics(\"classification_loss\", \"Classification Loss\")\n",
    "plot_metrics(\"bounding_box_loss\", \"Bounding Box Loss\")"
   ]
  },
  {
   "cell_type": "markdown",
   "metadata": {
    "id": "3FBn4V5-Krkt"
   },
   "source": [
    "## Intersection over union\n",
    "\n",
    "Calculate the I-O-U metric to evaluate the model's performance."
   ]
  },
  {
   "cell_type": "code",
   "execution_count": 13,
   "metadata": {
    "id": "YFqJxt3_VrCm"
   },
   "outputs": [],
   "source": [
    "def intersection_over_union(pred_box, true_box):\n",
    "    xmin_pred, ymin_pred, xmax_pred, ymax_pred =  np.split(pred_box, 4, axis = 1)\n",
    "    xmin_true, ymin_true, xmax_true, ymax_true = np.split(true_box, 4, axis = 1)\n",
    "\n",
    "    smoothing_factor = 1e-10\n",
    "\n",
    "    xmin_overlap = np.maximum(xmin_pred, xmin_true)\n",
    "    xmax_overlap = np.minimum(xmax_pred, xmax_true)\n",
    "    ymin_overlap = np.maximum(ymin_pred, ymin_true)\n",
    "    ymax_overlap = np.minimum(ymax_pred, ymax_true)\n",
    "\n",
    "    pred_box_area = (xmax_pred - xmin_pred) * (ymax_pred - ymin_pred)\n",
    "    true_box_area = (xmax_true - xmin_true) * (ymax_true - ymin_true)\n",
    "\n",
    "    overlap_area = np.maximum((xmax_overlap - xmin_overlap), 0)  * np.maximum((ymax_overlap - ymin_overlap), 0)\n",
    "    union_area = (pred_box_area + true_box_area) - overlap_area\n",
    "    \n",
    "    iou = (overlap_area + smoothing_factor) / (union_area + smoothing_factor)\n",
    "\n",
    "    return iou"
   ]
  },
  {
   "cell_type": "markdown",
   "metadata": {
    "id": "9jFVovcUUVs1"
   },
   "source": [
    "### Visualize predictions\n",
    "The following code will make predictions and visualize both the classification and the predicted bounding boxes.\n",
    "- The true bounding box labels will be in green, and the model's predicted bounding boxes are in red.\n",
    "- The predicted number is shown below the image."
   ]
  },
  {
   "cell_type": "code",
   "execution_count": 14,
   "metadata": {
    "id": "w12OId8Mz7dF"
   },
   "outputs": [
    {
     "name": "stdout",
     "output_type": "stream",
     "text": [
      "157/157 [==============================] - 1s 4ms/step\n",
      "Number of predictions where iou > threshold(0.6): 9582\n",
      "Number of predictions where iou < threshold(0.6): 418\n"
     ]
    },
    {
     "data": {
      "image/png": "[encoded data removed]",
      "text/plain": [
       "<Figure size 2000x400 with 11 Axes>"
      ]
     },
     "metadata": {},
     "output_type": "display_data"
    }
   ],
   "source": [
    "# recognize validation digits\n",
    "predictions = model.predict(validation_digits, batch_size=64)\n",
    "predicted_labels = np.argmax(predictions[0], axis=1)\n",
    "\n",
    "predicted_bboxes = predictions[1]\n",
    "\n",
    "iou = intersection_over_union(predicted_bboxes, validation_bboxes)\n",
    "\n",
    "iou_threshold = 0.6\n",
    "\n",
    "print(\"Number of predictions where iou > threshold(%s): %s\" % (iou_threshold, (iou >= iou_threshold).sum()))\n",
    "print(\"Number of predictions where iou < threshold(%s): %s\" % (iou_threshold, (iou < iou_threshold).sum()))\n",
    "\n",
    "\n",
    "display_digits_with_boxes(validation_digits, predicted_labels, validation_labels, predicted_bboxes, validation_bboxes, iou, \"True and Predicted values\")"
   ]
  }
 ],
 "metadata": {
  "accelerator": "TPU",
  "colab": {
   "name": "C3_W1_Lab_3_Object_Localization.ipynb",
   "private_outputs": true,
   "provenance": []
  },
  "kernelspec": {
   "display_name": "Python 3 (ipykernel)",
   "language": "python",
   "name": "python3"
  },
  "language_info": {
   "codemirror_mode": {
    "name": "ipython",
    "version": 3
   },
   "file_extension": ".py",
   "mimetype": "text/x-python",
   "name": "python",
   "nbconvert_exporter": "python",
   "pygments_lexer": "ipython3",
   "version": "3.9.16"
  }
 },
 "nbformat": 4,
 "nbformat_minor": 1
}
