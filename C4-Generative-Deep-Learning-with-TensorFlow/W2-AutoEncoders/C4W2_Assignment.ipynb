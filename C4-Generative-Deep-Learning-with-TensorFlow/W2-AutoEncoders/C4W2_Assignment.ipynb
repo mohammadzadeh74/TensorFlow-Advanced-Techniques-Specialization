{
 "cells": [
  {
   "cell_type": "markdown",
   "metadata": {
    "id": "L6S2HVAkSt0p"
   },
   "source": [
    "# Week 2 Assignment: CIFAR-10 Autoencoder\n",
    "\n",
    "For this week, you will create a convolutional autoencoder for the [CIFAR10](https://www.tensorflow.org/datasets/catalog/cifar10) dataset. You are free to choose the architecture of your autoencoder provided that the output image has the same dimensions as the input image.\n",
    "\n",
    "After training, your model should meet loss and accuracy requirements when evaluated with the test dataset. You will then download the model and upload it in the classroom for grading. \n",
    "\n",
    "Let's begin!"
   ]
  },
  {
   "cell_type": "markdown",
   "metadata": {
    "id": "6r4iPr2jyisR"
   },
   "source": [
    "***Important:*** *This colab notebook has read-only access so you won't be able to save your changes. If you want to save your work periodically, please click `File -> Save a Copy in Drive` to create a copy in your account, then work from there.*  "
   ]
  },
  {
   "cell_type": "markdown",
   "metadata": {
    "id": "g1mzy2J8_nc1"
   },
   "source": [
    "## Imports"
   ]
  },
  {
   "cell_type": "code",
   "execution_count": 1,
   "metadata": {
    "colab": {
     "base_uri": "https://localhost:8080/",
     "height": 0
    },
    "id": "wPuX3RKxl8l5",
    "outputId": "72a1a8b7-b6a3-4ded-fa7a-f82b4ae19896"
   },
   "outputs": [
    {
     "name": "stdout",
     "output_type": "stream",
     "text": [
      "\u001b[2K     \u001b[90m━━━━━━━━━━━━━━━━━━━━━━━━━━━━━━━━━━━━━━━\u001b[0m \u001b[32m458.4/458.4 MB\u001b[0m \u001b[31m2.9 MB/s\u001b[0m eta \u001b[36m0:00:00\u001b[0m\n",
      "\u001b[2K     \u001b[90m━━━━━━━━━━━━━━━━━━━━━━━━━━━━━━━━━━━━━━━━\u001b[0m \u001b[32m14.9/14.9 MB\u001b[0m \u001b[31m16.7 MB/s\u001b[0m eta \u001b[36m0:00:00\u001b[0m\n",
      "\u001b[2K     \u001b[90m━━━━━━━━━━━━━━━━━━━━━━━━━━━━━━━━━━━━━━━━\u001b[0m \u001b[32m4.4/4.4 MB\u001b[0m \u001b[31m51.7 MB/s\u001b[0m eta \u001b[36m0:00:00\u001b[0m\n",
      "\u001b[2K     \u001b[90m━━━━━━━━━━━━━━━━━━━━━━━━━━━━━━━━━━━━━━━\u001b[0m \u001b[32m132.0/132.0 KB\u001b[0m \u001b[31m2.4 MB/s\u001b[0m eta \u001b[36m0:00:00\u001b[0m\n",
      "\u001b[2K     \u001b[90m━━━━━━━━━━━━━━━━━━━━━━━━━━━━━━━━━━━━━━━━\u001b[0m \u001b[32m42.6/42.6 KB\u001b[0m \u001b[31m3.0 MB/s\u001b[0m eta \u001b[36m0:00:00\u001b[0m\n",
      "\u001b[?25h  Preparing metadata (setup.py) ... \u001b[?25l\u001b[?25hdone\n",
      "  Preparing metadata (setup.py) ... \u001b[?25l\u001b[?25hdone\n",
      "  Preparing metadata (setup.py) ... \u001b[?25l\u001b[?25hdone\n",
      "  Building wheel for clang (setup.py) ... \u001b[?25l\u001b[?25hdone\n",
      "  Building wheel for termcolor (setup.py) ... \u001b[?25l\u001b[?25hdone\n",
      "  Building wheel for wrapt (setup.py) ... \u001b[?25l\u001b[?25hdone\n",
      "\u001b[31mERROR: pip's dependency resolver does not currently take into account all the packages that are installed. This behaviour is the source of the following dependency conflicts.\n",
      "xarray 2022.12.0 requires numpy>=1.20, but you have numpy 1.19.5 which is incompatible.\n",
      "xarray-einstats 0.5.1 requires numpy>=1.20, but you have numpy 1.19.5 which is incompatible.\n",
      "pydantic 1.10.7 requires typing-extensions>=4.2.0, but you have typing-extensions 3.7.4.3 which is incompatible.\n",
      "optax 0.1.4 requires typing-extensions>=3.10.0, but you have typing-extensions 3.7.4.3 which is incompatible.\n",
      "matplotlib 3.7.1 requires numpy>=1.20, but you have numpy 1.19.5 which is incompatible.\n",
      "librosa 0.10.0.post2 requires numpy!=1.22.0,!=1.22.1,!=1.22.2,>=1.20.3, but you have numpy 1.19.5 which is incompatible.\n",
      "librosa 0.10.0.post2 requires typing-extensions>=4.1.1, but you have typing-extensions 3.7.4.3 which is incompatible.\n",
      "jaxlib 0.4.6+cuda11.cudnn86 requires numpy>=1.20, but you have numpy 1.19.5 which is incompatible.\n",
      "jax 0.4.6 requires numpy>=1.20, but you have numpy 1.19.5 which is incompatible.\n",
      "flax 0.6.7 requires typing-extensions>=4.1.1, but you have typing-extensions 3.7.4.3 which is incompatible.\n",
      "cupy-cuda11x 11.0.0 requires numpy<1.26,>=1.20, but you have numpy 1.19.5 which is incompatible.\n",
      "cmdstanpy 1.1.0 requires numpy>=1.21, but you have numpy 1.19.5 which is incompatible.\n",
      "chex 0.1.7 requires typing-extensions>=4.2.0; python_version < \"3.11\", but you have typing-extensions 3.7.4.3 which is incompatible.\n",
      "bokeh 2.4.3 requires typing-extensions>=3.10.0, but you have typing-extensions 3.7.4.3 which is incompatible.\n",
      "astropy 5.2.1 requires numpy>=1.20, but you have numpy 1.19.5 which is incompatible.\n",
      "arviz 0.15.1 requires numpy>=1.20.0, but you have numpy 1.19.5 which is incompatible.\n",
      "arviz 0.15.1 requires typing-extensions>=4.1.0, but you have typing-extensions 3.7.4.3 which is incompatible.\u001b[0m\u001b[31m\n",
      "\u001b[2K     \u001b[90m━━━━━━━━━━━━━━━━━━━━━━━━━━━━━━━━━━━━━━━━\u001b[0m \u001b[32m1.3/1.3 MB\u001b[0m \u001b[31m20.5 MB/s\u001b[0m eta \u001b[36m0:00:00\u001b[0m\n",
      "\u001b[?25h"
     ]
    }
   ],
   "source": [
    "# Install packages for compatibility with the autograder\n",
    "!pip install tensorflow==2.6.0 --quiet\n",
    "!pip install keras==2.6.0 --quiet"
   ]
  },
  {
   "cell_type": "code",
   "execution_count": 1,
   "metadata": {
    "colab": {
     "base_uri": "https://localhost:8080/"
    },
    "id": "3EXwoz-KHtWO",
    "outputId": "aee13782-0525-4783-8273-54020f58ff6c"
   },
   "outputs": [
    {
     "name": "stdout",
     "output_type": "stream",
     "text": [
      "Colab only includes TensorFlow 2.x; %tensorflow_version has no effect.\n"
     ]
    }
   ],
   "source": [
    "try:\n",
    "    # %tensorflow_version only exists in Colab.\n",
    "    %tensorflow_version 2.x\n",
    "except Exception:\n",
    "    pass\n",
    "\n",
    "import tensorflow as tf\n",
    "import tensorflow_datasets as tfds\n",
    "\n",
    "from keras.models import Sequential"
   ]
  },
  {
   "cell_type": "markdown",
   "metadata": {
    "id": "n2Gs6Lyc_pd0"
   },
   "source": [
    "## Load and prepare the dataset\n",
    "\n",
    "The [CIFAR 10](https://www.tensorflow.org/datasets/catalog/cifar10) dataset already has train and test splits and you can use those in this exercise. Here are the general steps:\n",
    "\n",
    "* Load the train/test split from TFDS. Set `as_supervised` to `True` so it will be convenient to use the preprocessing function we provided.\n",
    "* Normalize the pixel values to the range [0,1], then return `image, image` pairs for training instead of `image, label`. This is because you will check if the output image is successfully regenerated after going through your autoencoder.\n",
    "* Shuffle and batch the train set. Batch the test set (no need to shuffle).\n"
   ]
  },
  {
   "cell_type": "code",
   "execution_count": 2,
   "metadata": {
    "id": "t9F7YsCNIKSA"
   },
   "outputs": [],
   "source": [
    "# preprocessing function\n",
    "def map_image(image, label):\n",
    "  image = tf.cast(image, dtype=tf.float32)\n",
    "  image = image / 255.0\n",
    "\n",
    "  return image, image # dataset label is not used. replaced with the same image input.\n",
    "\n",
    "# parameters\n",
    "BATCH_SIZE = 128\n",
    "SHUFFLE_BUFFER_SIZE = 1024\n",
    "\n",
    "\n",
    "### START CODE HERE (Replace instances of `None` with your code) ###\n",
    "\n",
    "# use tfds.load() to fetch the 'train' split of CIFAR-10\n",
    "train_dataset = tfds.load('cifar10', split='train', as_supervised=True)\n",
    "\n",
    "# preprocess the dataset with the `map_image()` function above\n",
    "train_dataset = train_dataset.map(map_image)\n",
    "\n",
    "# shuffle and batch the dataset\n",
    "train_dataset = train_dataset.shuffle(SHUFFLE_BUFFER_SIZE).batch(BATCH_SIZE)\n",
    "\n",
    "\n",
    "# use tfds.load() to fetch the 'test' split of CIFAR-10\n",
    "test_dataset = tfds.load('cifar10', split='test', as_supervised=True)\n",
    "\n",
    "# preprocess the dataset with the `map_image()` function above\n",
    "test_dataset = test_dataset.map(map_image)\n",
    "\n",
    "# batch the dataset\n",
    "test_dataset = test_dataset.batch(BATCH_SIZE)\n",
    "\n",
    "### END CODE HERE ###"
   ]
  },
  {
   "cell_type": "markdown",
   "metadata": {
    "id": "rPyOgGJs_t98"
   },
   "source": [
    "## Build the Model\n",
    "\n",
    "Create the autoencoder model. As shown in the lectures, you will want to downsample the image in the encoder layers then upsample it in the decoder path. Note that the output layer should be the same dimensions as the original image. Your input images will have the shape `(32, 32, 3)`. If you deviate from this, your model may not be recognized by the grader and may fail. \n",
    "\n",
    "We included a few hints to use the Sequential API below but feel free to remove it and use the Functional API just like in the ungraded labs if you're more comfortable with it. Another reason to use the latter is if you want to visualize the encoder output. As shown in the ungraded labs, it will be easier to indicate multiple outputs with the Functional API. That is not required for this assignment though so you can just stack layers sequentially if you want a simpler solution."
   ]
  },
  {
   "cell_type": "code",
   "execution_count": 3,
   "metadata": {
    "colab": {
     "base_uri": "https://localhost:8080/"
    },
    "id": "Wr-Bok3lRgA3",
    "outputId": "9c471a95-7cee-4067-ccdc-e72fd6ec654a"
   },
   "outputs": [
    {
     "name": "stdout",
     "output_type": "stream",
     "text": [
      "Model: \"sequential\"\n",
      "_________________________________________________________________\n",
      "Layer (type)                 Output Shape              Param #   \n",
      "=================================================================\n",
      "conv2d (Conv2D)              (None, 32, 32, 64)        1792      \n",
      "_________________________________________________________________\n",
      "conv2d_1 (Conv2D)            (None, 32, 32, 64)        36928     \n",
      "_________________________________________________________________\n",
      "max_pooling2d (MaxPooling2D) (None, 16, 16, 64)        0         \n",
      "_________________________________________________________________\n",
      "conv2d_2 (Conv2D)            (None, 16, 16, 128)       73856     \n",
      "_________________________________________________________________\n",
      "conv2d_3 (Conv2D)            (None, 16, 16, 128)       147584    \n",
      "_________________________________________________________________\n",
      "max_pooling2d_1 (MaxPooling2 (None, 8, 8, 128)         0         \n",
      "_________________________________________________________________\n",
      "conv2d_4 (Conv2D)            (None, 8, 8, 256)         295168    \n",
      "_________________________________________________________________\n",
      "conv2d_5 (Conv2D)            (None, 8, 8, 128)         295040    \n",
      "_________________________________________________________________\n",
      "conv2d_6 (Conv2D)            (None, 8, 8, 128)         147584    \n",
      "_________________________________________________________________\n",
      "up_sampling2d (UpSampling2D) (None, 16, 16, 128)       0         \n",
      "_________________________________________________________________\n",
      "conv2d_7 (Conv2D)            (None, 16, 16, 64)        73792     \n",
      "_________________________________________________________________\n",
      "conv2d_8 (Conv2D)            (None, 16, 16, 64)        36928     \n",
      "_________________________________________________________________\n",
      "up_sampling2d_1 (UpSampling2 (None, 32, 32, 64)        0         \n",
      "_________________________________________________________________\n",
      "conv2d_9 (Conv2D)            (None, 32, 32, 3)         1731      \n",
      "=================================================================\n",
      "Total params: 1,110,403\n",
      "Trainable params: 1,110,403\n",
      "Non-trainable params: 0\n",
      "_________________________________________________________________\n"
     ]
    }
   ],
   "source": [
    "# suggested layers to use. feel free to add or remove as you see fit.\n",
    "from keras.layers import Conv2D, UpSampling2D, MaxPooling2D, Input\n",
    "\n",
    "# use the Sequential API (you can remove if you want to use the Functional API)\n",
    "model = Sequential()\n",
    "\n",
    "### START CODE HERE ###\n",
    "# use `model.add()` to add layers (if using the Sequential API)\n",
    "model.add(Input(shape=(32, 32, 3)))\n",
    "model.add(Conv2D(64, kernel_size=3, padding='same', activation='relu'))\n",
    "model.add(Conv2D(64, kernel_size=3, padding='same', activation='relu'))\n",
    "model.add(MaxPooling2D(pool_size=2))\n",
    "model.add(Conv2D(128, kernel_size=3, padding='same', activation='relu'))\n",
    "model.add(Conv2D(128, kernel_size=3, padding='same', activation='relu'))\n",
    "model.add(MaxPooling2D(pool_size=2))\n",
    "model.add(Conv2D(256, kernel_size=3, padding='same', activation='relu'))\n",
    "model.add(Conv2D(128, kernel_size=3, padding='same', activation='relu'))\n",
    "model.add(Conv2D(128, kernel_size=3, padding='same', activation='relu'))\n",
    "model.add(UpSampling2D(size=2))\n",
    "model.add(Conv2D(64, kernel_size=3, padding='same', activation='relu'))\n",
    "model.add(Conv2D(64, kernel_size=3, padding='same', activation='relu'))\n",
    "model.add(UpSampling2D(size=2))\n",
    "model.add(Conv2D(3, kernel_size=3, padding='same', activation='sigmoid'))\n",
    "### END CODE HERE ###\n",
    "\n",
    "model.summary()"
   ]
  },
  {
   "cell_type": "markdown",
   "metadata": {
    "id": "jRWTAijKEVUC"
   },
   "source": [
    "## Configure training parameters\n",
    "\n",
    "We have already provided the optimizer, metrics, and loss in the code below."
   ]
  },
  {
   "cell_type": "code",
   "execution_count": 4,
   "metadata": {
    "id": "iHIeD9eDETSk"
   },
   "outputs": [],
   "source": [
    "# Please do not change the model.compile() parameters\n",
    "model.compile(optimizer='adam', metrics=['accuracy'], loss='mean_squared_error')"
   ]
  },
  {
   "cell_type": "markdown",
   "metadata": {
    "id": "tLQPhm1W_8dC"
   },
   "source": [
    "## Training\n",
    "\n",
    "You can now use [model.fit()](https://keras.io/api/models/model_training_apis/#fit-method) to train your model. You will pass in the `train_dataset` and you are free to configure the other parameters. As with any training, you should see the loss generally going down and the accuracy going up with each epoch. If not, please revisit the previous sections to find possible bugs.\n",
    "\n",
    "*Note: If you get a `dataset length is infinite` error. Please check how you defined `train_dataset`. You might have included a [method that repeats the dataset indefinitely](https://www.tensorflow.org/api_docs/python/tf/data/Dataset#repeat).*"
   ]
  },
  {
   "cell_type": "markdown",
   "metadata": {
    "id": "cYsWgSwuUQ4C"
   },
   "source": []
  },
  {
   "cell_type": "code",
   "execution_count": 5,
   "metadata": {
    "colab": {
     "base_uri": "https://localhost:8080/"
    },
    "id": "AMBimOnsRvg0",
    "outputId": "26058df7-8c78-44ac-9d6f-a3d2953d66de"
   },
   "outputs": [
    {
     "name": "stdout",
     "output_type": "stream",
     "text": [
      "Epoch 1/40\n",
      "391/391 [==============================] - 23s 51ms/step - loss: 0.0136 - accuracy: 0.5798 - val_loss: 0.0060 - val_accuracy: 0.6708\n",
      "Epoch 2/40\n",
      "391/391 [==============================] - 16s 39ms/step - loss: 0.0044 - accuracy: 0.7649 - val_loss: 0.0036 - val_accuracy: 0.7882\n",
      "Epoch 3/40\n",
      "391/391 [==============================] - 16s 41ms/step - loss: 0.0035 - accuracy: 0.7885 - val_loss: 0.0029 - val_accuracy: 0.7903\n",
      "Epoch 4/40\n",
      "391/391 [==============================] - 16s 40ms/step - loss: 0.0028 - accuracy: 0.7996 - val_loss: 0.0024 - val_accuracy: 0.8224\n",
      "Epoch 5/40\n",
      "391/391 [==============================] - 15s 39ms/step - loss: 0.0025 - accuracy: 0.8057 - val_loss: 0.0023 - val_accuracy: 0.8177\n",
      "Epoch 6/40\n",
      "391/391 [==============================] - 15s 39ms/step - loss: 0.0021 - accuracy: 0.8124 - val_loss: 0.0019 - val_accuracy: 0.8166\n",
      "Epoch 7/40\n",
      "391/391 [==============================] - 16s 42ms/step - loss: 0.0019 - accuracy: 0.8148 - val_loss: 0.0017 - val_accuracy: 0.8312\n",
      "Epoch 8/40\n",
      "391/391 [==============================] - 16s 40ms/step - loss: 0.0018 - accuracy: 0.8171 - val_loss: 0.0015 - val_accuracy: 0.8172\n",
      "Epoch 9/40\n",
      "391/391 [==============================] - 15s 39ms/step - loss: 0.0016 - accuracy: 0.8218 - val_loss: 0.0014 - val_accuracy: 0.8317\n",
      "Epoch 10/40\n",
      "391/391 [==============================] - 16s 40ms/step - loss: 0.0015 - accuracy: 0.8249 - val_loss: 0.0014 - val_accuracy: 0.8348\n",
      "Epoch 11/40\n",
      "391/391 [==============================] - 16s 40ms/step - loss: 0.0015 - accuracy: 0.8295 - val_loss: 0.0016 - val_accuracy: 0.8134\n",
      "Epoch 12/40\n",
      "391/391 [==============================] - 15s 39ms/step - loss: 0.0014 - accuracy: 0.8311 - val_loss: 0.0012 - val_accuracy: 0.8358\n",
      "Epoch 13/40\n",
      "391/391 [==============================] - 15s 39ms/step - loss: 0.0013 - accuracy: 0.8335 - val_loss: 0.0013 - val_accuracy: 0.8478\n",
      "Epoch 14/40\n",
      "391/391 [==============================] - 16s 40ms/step - loss: 0.0013 - accuracy: 0.8332 - val_loss: 0.0011 - val_accuracy: 0.8389\n",
      "Epoch 15/40\n",
      "391/391 [==============================] - 16s 41ms/step - loss: 0.0012 - accuracy: 0.8361 - val_loss: 0.0012 - val_accuracy: 0.8387\n",
      "Epoch 16/40\n",
      "391/391 [==============================] - 15s 39ms/step - loss: 0.0012 - accuracy: 0.8378 - val_loss: 0.0011 - val_accuracy: 0.8381\n",
      "Epoch 17/40\n",
      "391/391 [==============================] - 16s 40ms/step - loss: 0.0011 - accuracy: 0.8395 - val_loss: 0.0011 - val_accuracy: 0.8189\n",
      "Epoch 18/40\n",
      "391/391 [==============================] - 16s 41ms/step - loss: 0.0011 - accuracy: 0.8401 - val_loss: 0.0010 - val_accuracy: 0.8569\n",
      "Epoch 19/40\n",
      "391/391 [==============================] - 16s 42ms/step - loss: 0.0010 - accuracy: 0.8429 - val_loss: 0.0010 - val_accuracy: 0.8437\n",
      "Epoch 20/40\n",
      "391/391 [==============================] - 16s 40ms/step - loss: 0.0011 - accuracy: 0.8408 - val_loss: 8.7797e-04 - val_accuracy: 0.8508\n",
      "Epoch 21/40\n",
      "391/391 [==============================] - 16s 40ms/step - loss: 9.8712e-04 - accuracy: 0.8448 - val_loss: 9.0636e-04 - val_accuracy: 0.8294\n",
      "Epoch 22/40\n",
      "391/391 [==============================] - 16s 41ms/step - loss: 9.3858e-04 - accuracy: 0.8469 - val_loss: 8.3686e-04 - val_accuracy: 0.8514\n",
      "Epoch 23/40\n",
      "391/391 [==============================] - 16s 40ms/step - loss: 9.2122e-04 - accuracy: 0.8476 - val_loss: 8.9281e-04 - val_accuracy: 0.8655\n",
      "Epoch 24/40\n",
      "391/391 [==============================] - 16s 41ms/step - loss: 9.2940e-04 - accuracy: 0.8468 - val_loss: 8.6046e-04 - val_accuracy: 0.8668\n",
      "Epoch 25/40\n",
      "391/391 [==============================] - 16s 40ms/step - loss: 8.6640e-04 - accuracy: 0.8510 - val_loss: 8.3975e-04 - val_accuracy: 0.8211\n",
      "Epoch 26/40\n",
      "391/391 [==============================] - 15s 39ms/step - loss: 8.7127e-04 - accuracy: 0.8490 - val_loss: 7.7646e-04 - val_accuracy: 0.8517\n",
      "Epoch 27/40\n",
      "391/391 [==============================] - 16s 40ms/step - loss: 0.0029 - accuracy: 0.7807 - val_loss: 0.0012 - val_accuracy: 0.8311\n",
      "Epoch 28/40\n",
      "391/391 [==============================] - 16s 40ms/step - loss: 0.0011 - accuracy: 0.8368 - val_loss: 9.8839e-04 - val_accuracy: 0.8552\n",
      "Epoch 29/40\n",
      "391/391 [==============================] - 16s 40ms/step - loss: 9.9773e-04 - accuracy: 0.8441 - val_loss: 8.6462e-04 - val_accuracy: 0.8647\n",
      "Epoch 30/40\n",
      "391/391 [==============================] - 15s 39ms/step - loss: 9.2515e-04 - accuracy: 0.8486 - val_loss: 9.3836e-04 - val_accuracy: 0.8104\n",
      "Epoch 31/40\n",
      "391/391 [==============================] - 16s 40ms/step - loss: 8.9822e-04 - accuracy: 0.8482 - val_loss: 8.3155e-04 - val_accuracy: 0.8665\n",
      "Epoch 32/40\n",
      "391/391 [==============================] - 16s 41ms/step - loss: 8.7855e-04 - accuracy: 0.8503 - val_loss: 8.0377e-04 - val_accuracy: 0.8538\n",
      "Epoch 33/40\n",
      "391/391 [==============================] - 16s 40ms/step - loss: 8.3963e-04 - accuracy: 0.8548 - val_loss: 7.8598e-04 - val_accuracy: 0.8743\n",
      "Epoch 34/40\n",
      "391/391 [==============================] - 15s 39ms/step - loss: 8.2540e-04 - accuracy: 0.8542 - val_loss: 8.8903e-04 - val_accuracy: 0.8608\n",
      "Epoch 35/40\n",
      "391/391 [==============================] - 16s 41ms/step - loss: 8.1143e-04 - accuracy: 0.8554 - val_loss: 8.7367e-04 - val_accuracy: 0.8666\n",
      "Epoch 36/40\n",
      "391/391 [==============================] - 16s 40ms/step - loss: 7.8904e-04 - accuracy: 0.8567 - val_loss: 7.4126e-04 - val_accuracy: 0.8733\n",
      "Epoch 37/40\n",
      "391/391 [==============================] - 15s 39ms/step - loss: 7.8967e-04 - accuracy: 0.8569 - val_loss: 7.5594e-04 - val_accuracy: 0.8261\n",
      "Epoch 38/40\n",
      "391/391 [==============================] - 16s 41ms/step - loss: 7.6425e-04 - accuracy: 0.8576 - val_loss: 6.7880e-04 - val_accuracy: 0.8699\n",
      "Epoch 39/40\n",
      "391/391 [==============================] - 16s 40ms/step - loss: 7.3334e-04 - accuracy: 0.8602 - val_loss: 8.4324e-04 - val_accuracy: 0.8742\n",
      "Epoch 40/40\n",
      "391/391 [==============================] - 15s 39ms/step - loss: 7.3151e-04 - accuracy: 0.8600 - val_loss: 6.7467e-04 - val_accuracy: 0.8398\n"
     ]
    },
    {
     "data": {
      "text/plain": [
       "<keras.callbacks.History at 0x7f08c1684dc0>"
      ]
     },
     "execution_count": 5,
     "metadata": {},
     "output_type": "execute_result"
    }
   ],
   "source": [
    "### START CODE HERE ###\n",
    "model.fit(train_dataset, validation_data=test_dataset, epochs=40)\n",
    "### END CODE HERE ###"
   ]
  },
  {
   "cell_type": "markdown",
   "metadata": {
    "id": "PT2l1c-SAaF4"
   },
   "source": [
    "## Model evaluation\n",
    "\n",
    "You can use this code to test your model locally before uploading to the grader. To pass, your model needs to satisfy these two requirements:\n",
    "\n",
    "* loss must be less than 0.01 \n",
    "* accuracy must be greater than 0.6"
   ]
  },
  {
   "cell_type": "code",
   "execution_count": 6,
   "metadata": {
    "colab": {
     "base_uri": "https://localhost:8080/"
    },
    "id": "vFncgqahSQhA",
    "outputId": "3dea751f-7550-4966-f149-8441f063e8cb"
   },
   "outputs": [
    {
     "name": "stdout",
     "output_type": "stream",
     "text": [
      "10/10 [==============================] - 0s 17ms/step - loss: 6.7282e-04 - accuracy: 0.8394\n"
     ]
    }
   ],
   "source": [
    "result = model.evaluate(test_dataset, steps=10)"
   ]
  },
  {
   "cell_type": "markdown",
   "metadata": {
    "id": "di6VOHGwIsVM"
   },
   "source": [
    "If you did some visualization like in the ungraded labs, then you might see something like the gallery below. This part is not required."
   ]
  },
  {
   "cell_type": "markdown",
   "metadata": {
    "id": "wmpI4skkIA5L"
   },
   "source": [
    "<img src=\"https://drive.google.com/uc?export=view&id=12Fy-guiP-3tTPfc9IV2nHhqLvs7LwRo6\" width=\"75%\" height=\"75%\"/>"
   ]
  },
  {
   "cell_type": "markdown",
   "metadata": {
    "id": "uaRSkQPNAPT0"
   },
   "source": [
    "## Save your model\n",
    "\n",
    "Once you are satisfied with the results, you can now save your model. Please download it from the Files window on the left and go back to the Submission portal in Coursera for grading."
   ]
  },
  {
   "cell_type": "code",
   "execution_count": 7,
   "metadata": {
    "id": "pLFpLP-c7rDR"
   },
   "outputs": [],
   "source": [
    "model.save('mymodel.h5')"
   ]
  },
  {
   "cell_type": "markdown",
   "metadata": {
    "id": "QArMiXJTDxDe"
   },
   "source": [
    "**Congratulations on completing this week's assignment!**"
   ]
  }
 ],
 "metadata": {
  "accelerator": "GPU",
  "colab": {
   "provenance": []
  },
  "gpuClass": "standard",
  "kernelspec": {
   "display_name": "Python 3 (ipykernel)",
   "language": "python",
   "name": "python3"
  },
  "language_info": {
   "codemirror_mode": {
    "name": "ipython",
    "version": 3
   },
   "file_extension": ".py",
   "mimetype": "text/x-python",
   "name": "python",
   "nbconvert_exporter": "python",
   "pygments_lexer": "ipython3",
   "version": "3.9.16"
  }
 },
 "nbformat": 4,
 "nbformat_minor": 1
}
