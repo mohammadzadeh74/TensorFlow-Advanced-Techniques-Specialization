{
 "cells": [
  {
   "cell_type": "markdown",
   "metadata": {
    "id": "hSmjE4t1dKnG"
   },
   "source": [
    "# Ungraded Lab: MNIST Deep Autoencoder\n",
    "\n",
    "Welcome back! In this lab, you will extend the shallow autoencoder you built in the previous exercise. The model here will have a deeper network so it can handle more complex images."
   ]
  },
  {
   "cell_type": "markdown",
   "metadata": {
    "id": "zTTfAJbudq7l"
   },
   "source": [
    "## Imports"
   ]
  },
  {
   "cell_type": "code",
   "execution_count": 1,
   "metadata": {
    "colab": {
     "base_uri": "https://localhost:8080/"
    },
    "id": "3EXwoz-KHtWO",
    "outputId": "7ec11a36-1952-47ff-dc94-3df1c2f14d33"
   },
   "outputs": [
    {
     "name": "stdout",
     "output_type": "stream",
     "text": [
      "Colab only includes TensorFlow 2.x; %tensorflow_version has no effect.\n"
     ]
    }
   ],
   "source": [
    "try:\n",
    "    # %tensorflow_version only exists in Colab.\n",
    "    %tensorflow_version 2.x\n",
    "except Exception:\n",
    "    pass\n",
    "  \n",
    "import tensorflow as tf\n",
    "import tensorflow_datasets as tfds\n",
    "\n",
    "import numpy as np\n",
    "import matplotlib.pyplot as plt"
   ]
  },
  {
   "cell_type": "markdown",
   "metadata": {
    "id": "25T24ET7e0ub"
   },
   "source": [
    "## Prepare the Dataset"
   ]
  },
  {
   "cell_type": "markdown",
   "metadata": {
    "id": "4RJB4eae0rgU"
   },
   "source": [
    "You will prepare the MNIST dataset just like in the previous lab."
   ]
  },
  {
   "cell_type": "code",
   "execution_count": 2,
   "metadata": {
    "id": "5BMJF86p0d08"
   },
   "outputs": [],
   "source": [
    "def map_image(image, label):\n",
    "    '''Normalizes and flattens the image. Returns image as input and label.'''\n",
    "    image = tf.cast(image, dtype=tf.float32)\n",
    "    image = image / 255.0\n",
    "    image = tf.reshape(image, shape=(784,))\n",
    "\n",
    "    return image, image"
   ]
  },
  {
   "cell_type": "code",
   "execution_count": 3,
   "metadata": {
    "colab": {
     "base_uri": "https://localhost:8080/",
     "height": 84,
     "referenced_widgets": [
      "aa696388a6214ae5877876f33adff727",
      "8a58a05f908f447b8f54f89fdfad2147",
      "e7795849d1324631b496d8619a6b6846",
      "216ddb4dde724b829e39c1b73e0e41b8",
      "be6909ad71e448e5b7007e33c054c751",
      "ebb097be71044d6893961a68a89ac2c2",
      "fbfc6432a28e4e3a955cf258f292af02",
      "5ad2ed00ef4244cebd681caa845b6deb",
      "9d0923ba02314bfe9fdedb3562609cfc",
      "e23c9823c65e47348bd0a01cea8cc1d9",
      "b123c085d29844fda8d2487885cbba5e"
     ]
    },
    "id": "t9F7YsCNIKSA",
    "outputId": "877be9c2-c1b8-4eae-d2b4-d847107ebf50"
   },
   "outputs": [
    {
     "name": "stdout",
     "output_type": "stream",
     "text": [
      "Downloading and preparing dataset Unknown size (download: Unknown size, generated: Unknown size, total: Unknown size) to /root/tensorflow_datasets/mnist/3.0.1...\n"
     ]
    },
    {
     "data": {
      "application/vnd.jupyter.widget-view+json": {
       "model_id": "aa696388a6214ae5877876f33adff727",
       "version_major": 2,
       "version_minor": 0
      },
      "text/plain": [
       "Dl Completed...:   0%|          | 0/5 [00:00<?, ? file/s]"
      ]
     },
     "metadata": {},
     "output_type": "display_data"
    },
    {
     "name": "stdout",
     "output_type": "stream",
     "text": [
      "Dataset mnist downloaded and prepared to /root/tensorflow_datasets/mnist/3.0.1. Subsequent calls will reuse this data.\n"
     ]
    }
   ],
   "source": [
    "# Load the train and test sets from TFDS\n",
    "\n",
    "BATCH_SIZE = 128\n",
    "SHUFFLE_BUFFER_SIZE = 1024\n",
    "\n",
    "train_dataset = tfds.load('mnist', as_supervised=True, split=\"train\")\n",
    "train_dataset = train_dataset.map(map_image)\n",
    "train_dataset = train_dataset.shuffle(SHUFFLE_BUFFER_SIZE).batch(BATCH_SIZE).repeat()\n",
    "\n",
    "test_dataset = tfds.load('mnist', as_supervised=True, split=\"test\")\n",
    "test_dataset = test_dataset.map(map_image)\n",
    "test_dataset = test_dataset.batch(BATCH_SIZE).repeat()"
   ]
  },
  {
   "cell_type": "markdown",
   "metadata": {
    "id": "Ji6sa0SXe3zP"
   },
   "source": [
    "## Build the Model"
   ]
  },
  {
   "cell_type": "markdown",
   "metadata": {
    "id": "x8OFTvkO02gV"
   },
   "source": [
    "As mentioned, you will have a deeper network for the autoencoder. Compare the layers here with that of the shallow network you built in the previous lab."
   ]
  },
  {
   "cell_type": "code",
   "execution_count": 4,
   "metadata": {
    "id": "KRrE2BV4IpzR"
   },
   "outputs": [],
   "source": [
    "def deep_autoencoder():\n",
    "    '''Builds the encoder and decoder using Dense layers.'''\n",
    "    encoder = tf.keras.layers.Dense(units=128, activation='relu')(inputs)\n",
    "    encoder = tf.keras.layers.Dense(units=64, activation='relu')(encoder)\n",
    "    encoder = tf.keras.layers.Dense(units=32, activation='relu')(encoder)\n",
    "\n",
    "    decoder = tf.keras.layers.Dense(units=64, activation='relu')(encoder)\n",
    "    decoder = tf.keras.layers.Dense(units=128, activation='relu')(decoder)\n",
    "    decoder = tf.keras.layers.Dense(units=784, activation='sigmoid')(decoder)\n",
    "    \n",
    "    return encoder, decoder\n",
    "\n",
    "# set the input tensor\n",
    "inputs =  tf.keras.layers.Input(shape=(784,))\n",
    "\n",
    "# get the encoder and decoder output\n",
    "deep_encoder_output, deep_autoencoder_output = deep_autoencoder()\n",
    "\n",
    "# setup the encoder because you will visualize its output later\n",
    "deep_encoder_model = tf.keras.Model(inputs=inputs, outputs=deep_encoder_output)\n",
    "\n",
    "# setup the autoencoder\n",
    "deep_autoencoder_model = tf.keras.Model(inputs=inputs, outputs=deep_autoencoder_output)"
   ]
  },
  {
   "cell_type": "markdown",
   "metadata": {
    "id": "5zG5ml6ufAz7"
   },
   "source": [
    "## Compile and Train the Model"
   ]
  },
  {
   "cell_type": "code",
   "execution_count": 5,
   "metadata": {
    "colab": {
     "base_uri": "https://localhost:8080/"
    },
    "id": "gj3xr9gxfAqP",
    "outputId": "dd63c535-4715-473d-d7db-178689cfbc3c"
   },
   "outputs": [
    {
     "name": "stdout",
     "output_type": "stream",
     "text": [
      "Epoch 1/50\n",
      "468/468 [==============================] - 12s 13ms/step - loss: 0.1996\n",
      "Epoch 2/50\n",
      "468/468 [==============================] - 6s 13ms/step - loss: 0.1285\n",
      "Epoch 3/50\n",
      "468/468 [==============================] - 5s 11ms/step - loss: 0.1165\n",
      "Epoch 4/50\n",
      "468/468 [==============================] - 6s 13ms/step - loss: 0.1100\n",
      "Epoch 5/50\n",
      "468/468 [==============================] - 6s 12ms/step - loss: 0.1053\n",
      "Epoch 6/50\n",
      "468/468 [==============================] - 8s 17ms/step - loss: 0.1016\n",
      "Epoch 7/50\n",
      "468/468 [==============================] - 5s 11ms/step - loss: 0.0989\n",
      "Epoch 8/50\n",
      "468/468 [==============================] - 4s 8ms/step - loss: 0.0969\n",
      "Epoch 9/50\n",
      "468/468 [==============================] - 5s 10ms/step - loss: 0.0955\n",
      "Epoch 10/50\n",
      "468/468 [==============================] - 4s 9ms/step - loss: 0.0943\n",
      "Epoch 11/50\n",
      "468/468 [==============================] - 4s 8ms/step - loss: 0.0932\n",
      "Epoch 12/50\n",
      "468/468 [==============================] - 5s 10ms/step - loss: 0.0922\n",
      "Epoch 13/50\n",
      "468/468 [==============================] - 4s 8ms/step - loss: 0.0914\n",
      "Epoch 14/50\n",
      "468/468 [==============================] - 4s 8ms/step - loss: 0.0907\n",
      "Epoch 15/50\n",
      "468/468 [==============================] - 5s 10ms/step - loss: 0.0901\n",
      "Epoch 16/50\n",
      "468/468 [==============================] - 4s 8ms/step - loss: 0.0896\n",
      "Epoch 17/50\n",
      "468/468 [==============================] - 4s 8ms/step - loss: 0.0890\n",
      "Epoch 18/50\n",
      "468/468 [==============================] - 5s 10ms/step - loss: 0.0884\n",
      "Epoch 19/50\n",
      "468/468 [==============================] - 5s 10ms/step - loss: 0.0879\n",
      "Epoch 20/50\n",
      "468/468 [==============================] - 4s 8ms/step - loss: 0.0875\n",
      "Epoch 21/50\n",
      "468/468 [==============================] - 5s 10ms/step - loss: 0.0871\n",
      "Epoch 22/50\n",
      "468/468 [==============================] - 4s 8ms/step - loss: 0.0868\n",
      "Epoch 23/50\n",
      "468/468 [==============================] - 4s 8ms/step - loss: 0.0865\n",
      "Epoch 24/50\n",
      "468/468 [==============================] - 4s 9ms/step - loss: 0.0862\n",
      "Epoch 25/50\n",
      "468/468 [==============================] - 4s 9ms/step - loss: 0.0861\n",
      "Epoch 26/50\n",
      "468/468 [==============================] - 4s 8ms/step - loss: 0.0859\n",
      "Epoch 27/50\n",
      "468/468 [==============================] - 4s 8ms/step - loss: 0.0857\n",
      "Epoch 28/50\n",
      "468/468 [==============================] - 4s 9ms/step - loss: 0.0855\n",
      "Epoch 29/50\n",
      "468/468 [==============================] - 4s 8ms/step - loss: 0.0853\n",
      "Epoch 30/50\n",
      "468/468 [==============================] - 4s 8ms/step - loss: 0.0852\n",
      "Epoch 31/50\n",
      "468/468 [==============================] - 5s 10ms/step - loss: 0.0851\n",
      "Epoch 32/50\n",
      "468/468 [==============================] - 4s 8ms/step - loss: 0.0849\n",
      "Epoch 33/50\n",
      "468/468 [==============================] - 6s 14ms/step - loss: 0.0849\n",
      "Epoch 34/50\n",
      "468/468 [==============================] - 4s 9ms/step - loss: 0.0847\n",
      "Epoch 35/50\n",
      "468/468 [==============================] - 4s 8ms/step - loss: 0.0846\n",
      "Epoch 36/50\n",
      "468/468 [==============================] - 5s 10ms/step - loss: 0.0845\n",
      "Epoch 37/50\n",
      "468/468 [==============================] - 4s 9ms/step - loss: 0.0844\n",
      "Epoch 38/50\n",
      "468/468 [==============================] - 4s 8ms/step - loss: 0.0843\n",
      "Epoch 39/50\n",
      "468/468 [==============================] - 4s 8ms/step - loss: 0.0843\n",
      "Epoch 40/50\n",
      "468/468 [==============================] - 4s 9ms/step - loss: 0.0842\n",
      "Epoch 41/50\n",
      "468/468 [==============================] - 4s 8ms/step - loss: 0.0841\n",
      "Epoch 42/50\n",
      "468/468 [==============================] - 4s 8ms/step - loss: 0.0840\n",
      "Epoch 43/50\n",
      "468/468 [==============================] - 5s 10ms/step - loss: 0.0839\n",
      "Epoch 44/50\n",
      "468/468 [==============================] - 4s 8ms/step - loss: 0.0839\n",
      "Epoch 45/50\n",
      "468/468 [==============================] - 4s 8ms/step - loss: 0.0838\n",
      "Epoch 46/50\n",
      "468/468 [==============================] - 5s 11ms/step - loss: 0.0837\n",
      "Epoch 47/50\n",
      "468/468 [==============================] - 4s 9ms/step - loss: 0.0837\n",
      "Epoch 48/50\n",
      "468/468 [==============================] - 4s 8ms/step - loss: 0.0837\n",
      "Epoch 49/50\n",
      "468/468 [==============================] - 5s 10ms/step - loss: 0.0836\n",
      "Epoch 50/50\n",
      "468/468 [==============================] - 4s 8ms/step - loss: 0.0836\n"
     ]
    }
   ],
   "source": [
    "train_steps = 60000 // BATCH_SIZE\n",
    "\n",
    "deep_autoencoder_model.compile(optimizer=tf.keras.optimizers.Adam(), loss='binary_crossentropy')\n",
    "deep_auto_history = deep_autoencoder_model.fit(train_dataset, steps_per_epoch=train_steps, epochs=50)"
   ]
  },
  {
   "cell_type": "markdown",
   "metadata": {
    "id": "n1XL84ydfGEh"
   },
   "source": [
    "## Display sample results\n",
    "\n",
    "See the results using the model you just trained."
   ]
  },
  {
   "cell_type": "code",
   "execution_count": 6,
   "metadata": {
    "id": "GcR54SEZ1-XF"
   },
   "outputs": [],
   "source": [
    "def display_one_row(disp_images, offset, shape=(28, 28)):\n",
    "    '''Display sample outputs in one row.'''\n",
    "    for idx, test_image in enumerate(disp_images):\n",
    "        plt.subplot(3, 10, offset + idx + 1)\n",
    "        plt.xticks([])\n",
    "        plt.yticks([])\n",
    "        test_image = np.reshape(test_image, shape)\n",
    "        plt.imshow(test_image, cmap='gray')\n",
    "\n",
    "\n",
    "def display_results(disp_input_images, disp_encoded, disp_predicted, enc_shape=(8,4)):\n",
    "    '''Displays the input, encoded, and decoded output values.'''\n",
    "    plt.figure(figsize=(15, 5))\n",
    "    display_one_row(disp_input_images, 0, shape=(28,28,))\n",
    "    display_one_row(disp_encoded, 10, shape=enc_shape)\n",
    "    display_one_row(disp_predicted, 20, shape=(28,28,))"
   ]
  },
  {
   "cell_type": "code",
   "execution_count": 7,
   "metadata": {
    "colab": {
     "base_uri": "https://localhost:8080/",
     "height": 329
    },
    "id": "qtQyQRxRN_hH",
    "outputId": "dee32d5a-8c76-4d31-b8f3-f96001b02b1b"
   },
   "outputs": [
    {
     "name": "stdout",
     "output_type": "stream",
     "text": [
      "1/1 [==============================] - 1s 1s/step\n",
      "1/1 [==============================] - 0s 482ms/step\n"
     ]
    },
    {
     "data": {
      "image/png": "[encoded data removed]",
      "text/plain": [
       "<Figure size 1080x360 with 30 Axes>"
      ]
     },
     "metadata": {},
     "output_type": "display_data"
    }
   ],
   "source": [
    "# take 1 batch of the dataset\n",
    "test_dataset = test_dataset.take(1)\n",
    "\n",
    "# take the input images and put them in a list\n",
    "output_samples = []\n",
    "for input_image, image in tfds.as_numpy(test_dataset):\n",
    "    output_samples = input_image\n",
    "\n",
    "# pick 10 random numbers to be used as indices to the list above\n",
    "idxs = np.random.choice(BATCH_SIZE, size=10)\n",
    "\n",
    "# get the encoder output\n",
    "encoded_predicted = deep_encoder_model.predict(test_dataset)\n",
    "\n",
    "# get a prediction for the test batch\n",
    "deep_predicted = deep_autoencoder_model.predict(test_dataset)\n",
    "\n",
    "# display the 10 samples, encodings and decoded values!\n",
    "display_results(output_samples[idxs], encoded_predicted[idxs], deep_predicted[idxs])"
   ]
  }
 ],
 "metadata": {
  "accelerator": "GPU",
  "colab": {
   "provenance": []
  },
  "gpuClass": "standard",
  "kernelspec": {
   "display_name": "Python 3 (ipykernel)",
   "language": "python",
   "name": "python3"
  },
  "language_info": {
   "codemirror_mode": {
    "name": "ipython",
    "version": 3
   },
   "file_extension": ".py",
   "mimetype": "text/x-python",
   "name": "python",
   "nbconvert_exporter": "python",
   "pygments_lexer": "ipython3",
   "version": "3.10.8"
  },
  "widgets": {
   "application/vnd.jupyter.widget-state+json": {
    "216ddb4dde724b829e39c1b73e0e41b8": {
     "model_module": "@jupyter-widgets/controls",
     "model_module_version": "1.5.0",
     "model_name": "HTMLModel",
     "state": {
      "_dom_classes": [],
      "_model_module": "@jupyter-widgets/controls",
      "_model_module_version": "1.5.0",
      "_model_name": "HTMLModel",
      "_view_count": null,
      "_view_module": "@jupyter-widgets/controls",
      "_view_module_version": "1.5.0",
      "_view_name": "HTMLView",
      "description": "",
      "description_tooltip": null,
      "layout": "IPY_MODEL_e23c9823c65e47348bd0a01cea8cc1d9",
      "placeholder": "​",
      "style": "IPY_MODEL_b123c085d29844fda8d2487885cbba5e",
      "value": " 5/5 [00:02&lt;00:00,  1.91 file/s]"
     }
    },
    "5ad2ed00ef4244cebd681caa845b6deb": {
     "model_module": "@jupyter-widgets/base",
     "model_module_version": "1.2.0",
     "model_name": "LayoutModel",
     "state": {
      "_model_module": "@jupyter-widgets/base",
      "_model_module_version": "1.2.0",
      "_model_name": "LayoutModel",
      "_view_count": null,
      "_view_module": "@jupyter-widgets/base",
      "_view_module_version": "1.2.0",
      "_view_name": "LayoutView",
      "align_content": null,
      "align_items": null,
      "align_self": null,
      "border": null,
      "bottom": null,
      "display": null,
      "flex": null,
      "flex_flow": null,
      "grid_area": null,
      "grid_auto_columns": null,
      "grid_auto_flow": null,
      "grid_auto_rows": null,
      "grid_column": null,
      "grid_gap": null,
      "grid_row": null,
      "grid_template_areas": null,
      "grid_template_columns": null,
      "grid_template_rows": null,
      "height": null,
      "justify_content": null,
      "justify_items": null,
      "left": null,
      "margin": null,
      "max_height": null,
      "max_width": null,
      "min_height": null,
      "min_width": null,
      "object_fit": null,
      "object_position": null,
      "order": null,
      "overflow": null,
      "overflow_x": null,
      "overflow_y": null,
      "padding": null,
      "right": null,
      "top": null,
      "visibility": null,
      "width": null
     }
    },
    "8a58a05f908f447b8f54f89fdfad2147": {
     "model_module": "@jupyter-widgets/controls",
     "model_module_version": "1.5.0",
     "model_name": "HTMLModel",
     "state": {
      "_dom_classes": [],
      "_model_module": "@jupyter-widgets/controls",
      "_model_module_version": "1.5.0",
      "_model_name": "HTMLModel",
      "_view_count": null,
      "_view_module": "@jupyter-widgets/controls",
      "_view_module_version": "1.5.0",
      "_view_name": "HTMLView",
      "description": "",
      "description_tooltip": null,
      "layout": "IPY_MODEL_ebb097be71044d6893961a68a89ac2c2",
      "placeholder": "​",
      "style": "IPY_MODEL_fbfc6432a28e4e3a955cf258f292af02",
      "value": "Dl Completed...: 100%"
     }
    },
    "9d0923ba02314bfe9fdedb3562609cfc": {
     "model_module": "@jupyter-widgets/controls",
     "model_module_version": "1.5.0",
     "model_name": "ProgressStyleModel",
     "state": {
      "_model_module": "@jupyter-widgets/controls",
      "_model_module_version": "1.5.0",
      "_model_name": "ProgressStyleModel",
      "_view_count": null,
      "_view_module": "@jupyter-widgets/base",
      "_view_module_version": "1.2.0",
      "_view_name": "StyleView",
      "bar_color": null,
      "description_width": ""
     }
    },
    "aa696388a6214ae5877876f33adff727": {
     "model_module": "@jupyter-widgets/controls",
     "model_module_version": "1.5.0",
     "model_name": "HBoxModel",
     "state": {
      "_dom_classes": [],
      "_model_module": "@jupyter-widgets/controls",
      "_model_module_version": "1.5.0",
      "_model_name": "HBoxModel",
      "_view_count": null,
      "_view_module": "@jupyter-widgets/controls",
      "_view_module_version": "1.5.0",
      "_view_name": "HBoxView",
      "box_style": "",
      "children": [
       "IPY_MODEL_8a58a05f908f447b8f54f89fdfad2147",
       "IPY_MODEL_e7795849d1324631b496d8619a6b6846",
       "IPY_MODEL_216ddb4dde724b829e39c1b73e0e41b8"
      ],
      "layout": "IPY_MODEL_be6909ad71e448e5b7007e33c054c751"
     }
    },
    "b123c085d29844fda8d2487885cbba5e": {
     "model_module": "@jupyter-widgets/controls",
     "model_module_version": "1.5.0",
     "model_name": "DescriptionStyleModel",
     "state": {
      "_model_module": "@jupyter-widgets/controls",
      "_model_module_version": "1.5.0",
      "_model_name": "DescriptionStyleModel",
      "_view_count": null,
      "_view_module": "@jupyter-widgets/base",
      "_view_module_version": "1.2.0",
      "_view_name": "StyleView",
      "description_width": ""
     }
    },
    "be6909ad71e448e5b7007e33c054c751": {
     "model_module": "@jupyter-widgets/base",
     "model_module_version": "1.2.0",
     "model_name": "LayoutModel",
     "state": {
      "_model_module": "@jupyter-widgets/base",
      "_model_module_version": "1.2.0",
      "_model_name": "LayoutModel",
      "_view_count": null,
      "_view_module": "@jupyter-widgets/base",
      "_view_module_version": "1.2.0",
      "_view_name": "LayoutView",
      "align_content": null,
      "align_items": null,
      "align_self": null,
      "border": null,
      "bottom": null,
      "display": null,
      "flex": null,
      "flex_flow": null,
      "grid_area": null,
      "grid_auto_columns": null,
      "grid_auto_flow": null,
      "grid_auto_rows": null,
      "grid_column": null,
      "grid_gap": null,
      "grid_row": null,
      "grid_template_areas": null,
      "grid_template_columns": null,
      "grid_template_rows": null,
      "height": null,
      "justify_content": null,
      "justify_items": null,
      "left": null,
      "margin": null,
      "max_height": null,
      "max_width": null,
      "min_height": null,
      "min_width": null,
      "object_fit": null,
      "object_position": null,
      "order": null,
      "overflow": null,
      "overflow_x": null,
      "overflow_y": null,
      "padding": null,
      "right": null,
      "top": null,
      "visibility": null,
      "width": null
     }
    },
    "e23c9823c65e47348bd0a01cea8cc1d9": {
     "model_module": "@jupyter-widgets/base",
     "model_module_version": "1.2.0",
     "model_name": "LayoutModel",
     "state": {
      "_model_module": "@jupyter-widgets/base",
      "_model_module_version": "1.2.0",
      "_model_name": "LayoutModel",
      "_view_count": null,
      "_view_module": "@jupyter-widgets/base",
      "_view_module_version": "1.2.0",
      "_view_name": "LayoutView",
      "align_content": null,
      "align_items": null,
      "align_self": null,
      "border": null,
      "bottom": null,
      "display": null,
      "flex": null,
      "flex_flow": null,
      "grid_area": null,
      "grid_auto_columns": null,
      "grid_auto_flow": null,
      "grid_auto_rows": null,
      "grid_column": null,
      "grid_gap": null,
      "grid_row": null,
      "grid_template_areas": null,
      "grid_template_columns": null,
      "grid_template_rows": null,
      "height": null,
      "justify_content": null,
      "justify_items": null,
      "left": null,
      "margin": null,
      "max_height": null,
      "max_width": null,
      "min_height": null,
      "min_width": null,
      "object_fit": null,
      "object_position": null,
      "order": null,
      "overflow": null,
      "overflow_x": null,
      "overflow_y": null,
      "padding": null,
      "right": null,
      "top": null,
      "visibility": null,
      "width": null
     }
    },
    "e7795849d1324631b496d8619a6b6846": {
     "model_module": "@jupyter-widgets/controls",
     "model_module_version": "1.5.0",
     "model_name": "FloatProgressModel",
     "state": {
      "_dom_classes": [],
      "_model_module": "@jupyter-widgets/controls",
      "_model_module_version": "1.5.0",
      "_model_name": "FloatProgressModel",
      "_view_count": null,
      "_view_module": "@jupyter-widgets/controls",
      "_view_module_version": "1.5.0",
      "_view_name": "ProgressView",
      "bar_style": "success",
      "description": "",
      "description_tooltip": null,
      "layout": "IPY_MODEL_5ad2ed00ef4244cebd681caa845b6deb",
      "max": 5,
      "min": 0,
      "orientation": "horizontal",
      "style": "IPY_MODEL_9d0923ba02314bfe9fdedb3562609cfc",
      "value": 5
     }
    },
    "ebb097be71044d6893961a68a89ac2c2": {
     "model_module": "@jupyter-widgets/base",
     "model_module_version": "1.2.0",
     "model_name": "LayoutModel",
     "state": {
      "_model_module": "@jupyter-widgets/base",
      "_model_module_version": "1.2.0",
      "_model_name": "LayoutModel",
      "_view_count": null,
      "_view_module": "@jupyter-widgets/base",
      "_view_module_version": "1.2.0",
      "_view_name": "LayoutView",
      "align_content": null,
      "align_items": null,
      "align_self": null,
      "border": null,
      "bottom": null,
      "display": null,
      "flex": null,
      "flex_flow": null,
      "grid_area": null,
      "grid_auto_columns": null,
      "grid_auto_flow": null,
      "grid_auto_rows": null,
      "grid_column": null,
      "grid_gap": null,
      "grid_row": null,
      "grid_template_areas": null,
      "grid_template_columns": null,
      "grid_template_rows": null,
      "height": null,
      "justify_content": null,
      "justify_items": null,
      "left": null,
      "margin": null,
      "max_height": null,
      "max_width": null,
      "min_height": null,
      "min_width": null,
      "object_fit": null,
      "object_position": null,
      "order": null,
      "overflow": null,
      "overflow_x": null,
      "overflow_y": null,
      "padding": null,
      "right": null,
      "top": null,
      "visibility": null,
      "width": null
     }
    },
    "fbfc6432a28e4e3a955cf258f292af02": {
     "model_module": "@jupyter-widgets/controls",
     "model_module_version": "1.5.0",
     "model_name": "DescriptionStyleModel",
     "state": {
      "_model_module": "@jupyter-widgets/controls",
      "_model_module_version": "1.5.0",
      "_model_name": "DescriptionStyleModel",
      "_view_count": null,
      "_view_module": "@jupyter-widgets/base",
      "_view_module_version": "1.2.0",
      "_view_name": "StyleView",
      "description_width": ""
     }
    }
   }
  }
 },
 "nbformat": 4,
 "nbformat_minor": 1
}
